{
 "cells": [
  {
   "cell_type": "markdown",
   "id": "63801d20-d583-4b2e-a1ea-8c626c605e9d",
   "metadata": {},
   "source": [
    "# Supervised Learning with scikit-learn (Ridge & Lasso Regression)"
   ]
  },
  {
   "cell_type": "code",
   "execution_count": 1,
   "id": "9b9582bf-bb0a-4f8f-b4fc-fe0f31fe4eec",
   "metadata": {},
   "outputs": [],
   "source": [
    "# Loading libraries\n",
    "import pandas as pd\n",
    "import numpy as np\n",
    "import matplotlib.pyplot as plt\n",
    "\n",
    "# Loading classes\n",
    "from sklearn.linear_model import Ridge, Lasso\n",
    "from sklearn.metrics import mean_squared_error, r2_score\n",
    "from sklearn.model_selection import train_test_split, KFold, cross_val_score, cross_validate\n",
    "\n",
    "# Ignoring future warnings for readability reasons\n",
    "from warnings import simplefilter\n",
    "simplefilter(action='ignore', category=FutureWarning)"
   ]
  },
  {
   "cell_type": "markdown",
   "id": "3e33f61f-c0ba-4fe9-a03c-f3fdafd3534f",
   "metadata": {},
   "source": [
    "# Ridge Regression\n",
    "\n",
    "Ridge regression introduces an L2 normalization into the loss function "
   ]
  }
 ],
 "metadata": {
  "kernelspec": {
   "display_name": "Python 3 (ipykernel)",
   "language": "python",
   "name": "python3"
  },
  "language_info": {
   "codemirror_mode": {
    "name": "ipython",
    "version": 3
   },
   "file_extension": ".py",
   "mimetype": "text/x-python",
   "name": "python",
   "nbconvert_exporter": "python",
   "pygments_lexer": "ipython3",
   "version": "3.9.13"
  }
 },
 "nbformat": 4,
 "nbformat_minor": 5
}
