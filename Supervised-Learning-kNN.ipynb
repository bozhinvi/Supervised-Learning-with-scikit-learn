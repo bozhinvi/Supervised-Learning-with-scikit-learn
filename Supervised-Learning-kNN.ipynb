{
 "cells": [
  {
   "cell_type": "markdown",
   "id": "prostate-arizona",
   "metadata": {
    "id": "bA5ajAmk7XH6",
    "tags": []
   },
   "source": [
    "# Supervised Learning with scikit-learn (kNN)"
   ]
  },
  {
   "cell_type": "code",
   "execution_count": 1,
   "id": "2e25fdd8-4d84-45bc-80f0-949917e00a17",
   "metadata": {
    "collapsed": false,
    "executionCancelledAt": null,
    "executionTime": 27,
    "jupyter": {
     "outputs_hidden": false,
     "source_hidden": false
    },
    "lastExecutedAt": 1705770460768,
    "lastScheduledRunId": null,
    "lastSuccessfullyExecutedCode": "# Importing pandas\nimport pandas as pd\nimport numpy as np\nimport matplotlib.pyplot as plt\nfrom sklearn.neighbors import KNeighborsClassifier\nfrom sklearn.metrics import confusion_matrix, classification_report\nfrom sklearn.model_selection import train_test_split\nfrom sklearn.metrics import roc_curve\nfrom sklearn.metrics import roc_auc_score\n\n# Importing the course datasets \ndiabetes_df = pd.read_csv('datasets/diabetes_clean.csv')\nmusic = pd.read_csv('datasets/music_clean.csv')\nadvertising = pd.read_csv('datasets/advertising_and_sales_clean.csv')"
   },
   "outputs": [],
   "source": [
    "# Importing packages\n",
    "import pandas as pd\n",
    "import numpy as np\n",
    "import matplotlib.pyplot as plt\n",
    "from sklearn.metrics import confusion_matrix, classification_report\n",
    "from sklearn.neighbors import KNeighborsClassifier \n",
    "from sklearn.model_selection import train_test_split, KFold, cross_val_score, GridSearchCV, RandomizedSearchCV\n",
    "\n",
    "# Ignoring future warnings for readability reasons\n",
    "from warnings import simplefilter\n",
    "simplefilter(action='ignore', category=FutureWarning)"
   ]
  },
  {
   "cell_type": "markdown",
   "id": "38152e1b-55bc-4a5e-a0f5-750d05e784d4",
   "metadata": {
    "tags": []
   },
   "source": [
    "# k-Nearest Neighbors"
   ]
  },
  {
   "cell_type": "markdown",
   "id": "ac7d382c-ba24-4e51-9483-6179c5596c88",
   "metadata": {},
   "source": [
    "kNN is used for matching based on distance (Euclidean or Manhatten). k is here the hyperparameter which is used to set the number of the nearest neighbors which are used to predict the value.\n",
    "\n",
    "In the following example, telecomunications churn data is used to train a kNN model aiming to predict consumer churn. Hereby, I use all 3333 observations to train the model with account length and the number of customer service calls as features. An example dataset of three observations are used to compute predictions."
   ]
  },
  {
   "cell_type": "code",
   "execution_count": 2,
   "id": "465f2861-3e75-48d9-92d6-fb968e28ff59",
   "metadata": {
    "chartConfig": {
     "bar": {
      "hasRoundedCorners": true,
      "stacked": false
     },
     "type": "bar",
     "version": "v1"
    },
    "executionCancelledAt": null,
    "executionTime": 74,
    "lastExecutedAt": 1705770465666,
    "lastScheduledRunId": null,
    "lastSuccessfullyExecutedCode": "# Import telecominication churn data\nchurn_df = pd.read_csv(\"datasets/telecom_churn_clean.csv\")\n\n# Dataset\nchurn_df.describe()",
    "outputsMetadata": {
     "0": {
      "height": 273,
      "type": "dataFrame"
     }
    },
    "visualizeDataframe": false
   },
   "outputs": [
    {
     "data": {
      "text/html": [
       "<div>\n",
       "<style scoped>\n",
       "    .dataframe tbody tr th:only-of-type {\n",
       "        vertical-align: middle;\n",
       "    }\n",
       "\n",
       "    .dataframe tbody tr th {\n",
       "        vertical-align: top;\n",
       "    }\n",
       "\n",
       "    .dataframe thead th {\n",
       "        text-align: right;\n",
       "    }\n",
       "</style>\n",
       "<table border=\"1\" class=\"dataframe\">\n",
       "  <thead>\n",
       "    <tr style=\"text-align: right;\">\n",
       "      <th></th>\n",
       "      <th>churn</th>\n",
       "      <th>account_length</th>\n",
       "      <th>customer_service_calls</th>\n",
       "    </tr>\n",
       "  </thead>\n",
       "  <tbody>\n",
       "    <tr>\n",
       "      <th>count</th>\n",
       "      <td>3333.000000</td>\n",
       "      <td>3333.000000</td>\n",
       "      <td>3333.000000</td>\n",
       "    </tr>\n",
       "    <tr>\n",
       "      <th>mean</th>\n",
       "      <td>0.144914</td>\n",
       "      <td>101.064806</td>\n",
       "      <td>1.562856</td>\n",
       "    </tr>\n",
       "    <tr>\n",
       "      <th>std</th>\n",
       "      <td>0.352067</td>\n",
       "      <td>39.822106</td>\n",
       "      <td>1.315491</td>\n",
       "    </tr>\n",
       "    <tr>\n",
       "      <th>min</th>\n",
       "      <td>0.000000</td>\n",
       "      <td>1.000000</td>\n",
       "      <td>0.000000</td>\n",
       "    </tr>\n",
       "    <tr>\n",
       "      <th>25%</th>\n",
       "      <td>0.000000</td>\n",
       "      <td>74.000000</td>\n",
       "      <td>1.000000</td>\n",
       "    </tr>\n",
       "    <tr>\n",
       "      <th>50%</th>\n",
       "      <td>0.000000</td>\n",
       "      <td>101.000000</td>\n",
       "      <td>1.000000</td>\n",
       "    </tr>\n",
       "    <tr>\n",
       "      <th>75%</th>\n",
       "      <td>0.000000</td>\n",
       "      <td>127.000000</td>\n",
       "      <td>2.000000</td>\n",
       "    </tr>\n",
       "    <tr>\n",
       "      <th>max</th>\n",
       "      <td>1.000000</td>\n",
       "      <td>243.000000</td>\n",
       "      <td>9.000000</td>\n",
       "    </tr>\n",
       "  </tbody>\n",
       "</table>\n",
       "</div>"
      ],
      "text/plain": [
       "             churn  account_length  customer_service_calls\n",
       "count  3333.000000     3333.000000             3333.000000\n",
       "mean      0.144914      101.064806                1.562856\n",
       "std       0.352067       39.822106                1.315491\n",
       "min       0.000000        1.000000                0.000000\n",
       "25%       0.000000       74.000000                1.000000\n",
       "50%       0.000000      101.000000                1.000000\n",
       "75%       0.000000      127.000000                2.000000\n",
       "max       1.000000      243.000000                9.000000"
      ]
     },
     "execution_count": 2,
     "metadata": {},
     "output_type": "execute_result"
    }
   ],
   "source": [
    "# Import telecominication churn data\n",
    "churn_df = pd.read_csv(\"datasets/telecom_churn_clean.csv\")\n",
    "\n",
    "# Dataset\n",
    "churn_df[[\"churn\", \"account_length\", \"customer_service_calls\"]].describe()"
   ]
  },
  {
   "cell_type": "code",
   "execution_count": 3,
   "id": "76217844-5d94-4584-a605-f281f9b500e2",
   "metadata": {
    "executionCancelledAt": null,
    "executionTime": 14,
    "lastExecutedAt": 1705770470238,
    "lastScheduledRunId": null,
    "lastSuccessfullyExecutedCode": "# Import KNeighborsClassifier\nfrom sklearn.neighbors import KNeighborsClassifier \n\n# Split data into X and y\ny = churn_df[\"churn\"].values\nX = churn_df[[\"account_length\", \"customer_service_calls\"]].values\n\n# Create a KNN classifier with 6 neighbors\nknn = KNeighborsClassifier(n_neighbors=6)\n\n# Fit the classifier to the data\nknn.fit(X, y)",
    "outputsMetadata": {
     "0": {
      "height": 37,
      "type": "stream"
     }
    },
    "tags": []
   },
   "outputs": [
    {
     "data": {
      "text/html": [
       "<style>#sk-container-id-1 {color: black;}#sk-container-id-1 pre{padding: 0;}#sk-container-id-1 div.sk-toggleable {background-color: white;}#sk-container-id-1 label.sk-toggleable__label {cursor: pointer;display: block;width: 100%;margin-bottom: 0;padding: 0.3em;box-sizing: border-box;text-align: center;}#sk-container-id-1 label.sk-toggleable__label-arrow:before {content: \"▸\";float: left;margin-right: 0.25em;color: #696969;}#sk-container-id-1 label.sk-toggleable__label-arrow:hover:before {color: black;}#sk-container-id-1 div.sk-estimator:hover label.sk-toggleable__label-arrow:before {color: black;}#sk-container-id-1 div.sk-toggleable__content {max-height: 0;max-width: 0;overflow: hidden;text-align: left;background-color: #f0f8ff;}#sk-container-id-1 div.sk-toggleable__content pre {margin: 0.2em;color: black;border-radius: 0.25em;background-color: #f0f8ff;}#sk-container-id-1 input.sk-toggleable__control:checked~div.sk-toggleable__content {max-height: 200px;max-width: 100%;overflow: auto;}#sk-container-id-1 input.sk-toggleable__control:checked~label.sk-toggleable__label-arrow:before {content: \"▾\";}#sk-container-id-1 div.sk-estimator input.sk-toggleable__control:checked~label.sk-toggleable__label {background-color: #d4ebff;}#sk-container-id-1 div.sk-label input.sk-toggleable__control:checked~label.sk-toggleable__label {background-color: #d4ebff;}#sk-container-id-1 input.sk-hidden--visually {border: 0;clip: rect(1px 1px 1px 1px);clip: rect(1px, 1px, 1px, 1px);height: 1px;margin: -1px;overflow: hidden;padding: 0;position: absolute;width: 1px;}#sk-container-id-1 div.sk-estimator {font-family: monospace;background-color: #f0f8ff;border: 1px dotted black;border-radius: 0.25em;box-sizing: border-box;margin-bottom: 0.5em;}#sk-container-id-1 div.sk-estimator:hover {background-color: #d4ebff;}#sk-container-id-1 div.sk-parallel-item::after {content: \"\";width: 100%;border-bottom: 1px solid gray;flex-grow: 1;}#sk-container-id-1 div.sk-label:hover label.sk-toggleable__label {background-color: #d4ebff;}#sk-container-id-1 div.sk-serial::before {content: \"\";position: absolute;border-left: 1px solid gray;box-sizing: border-box;top: 0;bottom: 0;left: 50%;z-index: 0;}#sk-container-id-1 div.sk-serial {display: flex;flex-direction: column;align-items: center;background-color: white;padding-right: 0.2em;padding-left: 0.2em;position: relative;}#sk-container-id-1 div.sk-item {position: relative;z-index: 1;}#sk-container-id-1 div.sk-parallel {display: flex;align-items: stretch;justify-content: center;background-color: white;position: relative;}#sk-container-id-1 div.sk-item::before, #sk-container-id-1 div.sk-parallel-item::before {content: \"\";position: absolute;border-left: 1px solid gray;box-sizing: border-box;top: 0;bottom: 0;left: 50%;z-index: -1;}#sk-container-id-1 div.sk-parallel-item {display: flex;flex-direction: column;z-index: 1;position: relative;background-color: white;}#sk-container-id-1 div.sk-parallel-item:first-child::after {align-self: flex-end;width: 50%;}#sk-container-id-1 div.sk-parallel-item:last-child::after {align-self: flex-start;width: 50%;}#sk-container-id-1 div.sk-parallel-item:only-child::after {width: 0;}#sk-container-id-1 div.sk-dashed-wrapped {border: 1px dashed gray;margin: 0 0.4em 0.5em 0.4em;box-sizing: border-box;padding-bottom: 0.4em;background-color: white;}#sk-container-id-1 div.sk-label label {font-family: monospace;font-weight: bold;display: inline-block;line-height: 1.2em;}#sk-container-id-1 div.sk-label-container {text-align: center;}#sk-container-id-1 div.sk-container {/* jupyter's `normalize.less` sets `[hidden] { display: none; }` but bootstrap.min.css set `[hidden] { display: none !important; }` so we also need the `!important` here to be able to override the default hidden behavior on the sphinx rendered scikit-learn.org. See: https://github.com/scikit-learn/scikit-learn/issues/21755 */display: inline-block !important;position: relative;}#sk-container-id-1 div.sk-text-repr-fallback {display: none;}</style><div id=\"sk-container-id-1\" class=\"sk-top-container\"><div class=\"sk-text-repr-fallback\"><pre>KNeighborsClassifier(n_neighbors=6)</pre><b>In a Jupyter environment, please rerun this cell to show the HTML representation or trust the notebook. <br />On GitHub, the HTML representation is unable to render, please try loading this page with nbviewer.org.</b></div><div class=\"sk-container\" hidden><div class=\"sk-item\"><div class=\"sk-estimator sk-toggleable\"><input class=\"sk-toggleable__control sk-hidden--visually\" id=\"sk-estimator-id-1\" type=\"checkbox\" checked><label for=\"sk-estimator-id-1\" class=\"sk-toggleable__label sk-toggleable__label-arrow\">KNeighborsClassifier</label><div class=\"sk-toggleable__content\"><pre>KNeighborsClassifier(n_neighbors=6)</pre></div></div></div></div></div>"
      ],
      "text/plain": [
       "KNeighborsClassifier(n_neighbors=6)"
      ]
     },
     "execution_count": 3,
     "metadata": {},
     "output_type": "execute_result"
    }
   ],
   "source": [
    "# Split data into X and y\n",
    "y = churn_df[\"churn\"].values\n",
    "X = churn_df[[\"account_length\", \"customer_service_calls\"]].values\n",
    "\n",
    "# Create a KNN classifier with 6 neighbors\n",
    "knn = KNeighborsClassifier(n_neighbors=6)\n",
    "\n",
    "# Fit the classifier to the data\n",
    "knn.fit(X, y)"
   ]
  },
  {
   "cell_type": "code",
   "execution_count": 4,
   "id": "499a2877-071c-489d-bf2d-aa4f15b3a82d",
   "metadata": {
    "executionCancelledAt": null,
    "executionTime": 14,
    "lastExecutedAt": 1705770470238,
    "lastScheduledRunId": null,
    "lastSuccessfullyExecutedCode": "# Import KNeighborsClassifier\nfrom sklearn.neighbors import KNeighborsClassifier \n\n# Split data into X and y\ny = churn_df[\"churn\"].values\nX = churn_df[[\"account_length\", \"customer_service_calls\"]].values\n\n# Create a KNN classifier with 6 neighbors\nknn = KNeighborsClassifier(n_neighbors=6)\n\n# Fit the classifier to the data\nknn.fit(X, y)",
    "outputsMetadata": {
     "0": {
      "height": 37,
      "type": "stream"
     }
    },
    "tags": []
   },
   "outputs": [
    {
     "data": {
      "text/html": [
       "<style>#sk-container-id-2 {color: black;}#sk-container-id-2 pre{padding: 0;}#sk-container-id-2 div.sk-toggleable {background-color: white;}#sk-container-id-2 label.sk-toggleable__label {cursor: pointer;display: block;width: 100%;margin-bottom: 0;padding: 0.3em;box-sizing: border-box;text-align: center;}#sk-container-id-2 label.sk-toggleable__label-arrow:before {content: \"▸\";float: left;margin-right: 0.25em;color: #696969;}#sk-container-id-2 label.sk-toggleable__label-arrow:hover:before {color: black;}#sk-container-id-2 div.sk-estimator:hover label.sk-toggleable__label-arrow:before {color: black;}#sk-container-id-2 div.sk-toggleable__content {max-height: 0;max-width: 0;overflow: hidden;text-align: left;background-color: #f0f8ff;}#sk-container-id-2 div.sk-toggleable__content pre {margin: 0.2em;color: black;border-radius: 0.25em;background-color: #f0f8ff;}#sk-container-id-2 input.sk-toggleable__control:checked~div.sk-toggleable__content {max-height: 200px;max-width: 100%;overflow: auto;}#sk-container-id-2 input.sk-toggleable__control:checked~label.sk-toggleable__label-arrow:before {content: \"▾\";}#sk-container-id-2 div.sk-estimator input.sk-toggleable__control:checked~label.sk-toggleable__label {background-color: #d4ebff;}#sk-container-id-2 div.sk-label input.sk-toggleable__control:checked~label.sk-toggleable__label {background-color: #d4ebff;}#sk-container-id-2 input.sk-hidden--visually {border: 0;clip: rect(1px 1px 1px 1px);clip: rect(1px, 1px, 1px, 1px);height: 1px;margin: -1px;overflow: hidden;padding: 0;position: absolute;width: 1px;}#sk-container-id-2 div.sk-estimator {font-family: monospace;background-color: #f0f8ff;border: 1px dotted black;border-radius: 0.25em;box-sizing: border-box;margin-bottom: 0.5em;}#sk-container-id-2 div.sk-estimator:hover {background-color: #d4ebff;}#sk-container-id-2 div.sk-parallel-item::after {content: \"\";width: 100%;border-bottom: 1px solid gray;flex-grow: 1;}#sk-container-id-2 div.sk-label:hover label.sk-toggleable__label {background-color: #d4ebff;}#sk-container-id-2 div.sk-serial::before {content: \"\";position: absolute;border-left: 1px solid gray;box-sizing: border-box;top: 0;bottom: 0;left: 50%;z-index: 0;}#sk-container-id-2 div.sk-serial {display: flex;flex-direction: column;align-items: center;background-color: white;padding-right: 0.2em;padding-left: 0.2em;position: relative;}#sk-container-id-2 div.sk-item {position: relative;z-index: 1;}#sk-container-id-2 div.sk-parallel {display: flex;align-items: stretch;justify-content: center;background-color: white;position: relative;}#sk-container-id-2 div.sk-item::before, #sk-container-id-2 div.sk-parallel-item::before {content: \"\";position: absolute;border-left: 1px solid gray;box-sizing: border-box;top: 0;bottom: 0;left: 50%;z-index: -1;}#sk-container-id-2 div.sk-parallel-item {display: flex;flex-direction: column;z-index: 1;position: relative;background-color: white;}#sk-container-id-2 div.sk-parallel-item:first-child::after {align-self: flex-end;width: 50%;}#sk-container-id-2 div.sk-parallel-item:last-child::after {align-self: flex-start;width: 50%;}#sk-container-id-2 div.sk-parallel-item:only-child::after {width: 0;}#sk-container-id-2 div.sk-dashed-wrapped {border: 1px dashed gray;margin: 0 0.4em 0.5em 0.4em;box-sizing: border-box;padding-bottom: 0.4em;background-color: white;}#sk-container-id-2 div.sk-label label {font-family: monospace;font-weight: bold;display: inline-block;line-height: 1.2em;}#sk-container-id-2 div.sk-label-container {text-align: center;}#sk-container-id-2 div.sk-container {/* jupyter's `normalize.less` sets `[hidden] { display: none; }` but bootstrap.min.css set `[hidden] { display: none !important; }` so we also need the `!important` here to be able to override the default hidden behavior on the sphinx rendered scikit-learn.org. See: https://github.com/scikit-learn/scikit-learn/issues/21755 */display: inline-block !important;position: relative;}#sk-container-id-2 div.sk-text-repr-fallback {display: none;}</style><div id=\"sk-container-id-2\" class=\"sk-top-container\"><div class=\"sk-text-repr-fallback\"><pre>KNeighborsClassifier(n_neighbors=6)</pre><b>In a Jupyter environment, please rerun this cell to show the HTML representation or trust the notebook. <br />On GitHub, the HTML representation is unable to render, please try loading this page with nbviewer.org.</b></div><div class=\"sk-container\" hidden><div class=\"sk-item\"><div class=\"sk-estimator sk-toggleable\"><input class=\"sk-toggleable__control sk-hidden--visually\" id=\"sk-estimator-id-2\" type=\"checkbox\" checked><label for=\"sk-estimator-id-2\" class=\"sk-toggleable__label sk-toggleable__label-arrow\">KNeighborsClassifier</label><div class=\"sk-toggleable__content\"><pre>KNeighborsClassifier(n_neighbors=6)</pre></div></div></div></div></div>"
      ],
      "text/plain": [
       "KNeighborsClassifier(n_neighbors=6)"
      ]
     },
     "execution_count": 4,
     "metadata": {},
     "output_type": "execute_result"
    }
   ],
   "source": [
    "# Split data into X and y\n",
    "y = churn_df[\"churn\"].values\n",
    "X = churn_df[[\"account_length\", \"customer_service_calls\"]].values\n",
    "\n",
    "# Create a KNN classifier with 6 neighbors\n",
    "knn = KNeighborsClassifier(n_neighbors=6)\n",
    "\n",
    "# Fit the classifier to the data\n",
    "knn.fit(X, y)"
   ]
  },
  {
   "cell_type": "code",
   "execution_count": 5,
   "id": "d8ec4cc1-f86f-4bce-bb62-e6fb3dd459c5",
   "metadata": {
    "executionCancelledAt": null,
    "executionTime": 13,
    "lastExecutedAt": 1705770476067,
    "lastScheduledRunId": null,
    "lastSuccessfullyExecutedCode": "# Additional data\nX_new = np.array([[ 35. ,  20],\n                  [99. ,  29.1],\n                 [217. ,  12.9]])\n\n# Predict the labels for the X_new\ny_pred = knn.predict(X_new)\n\n# Print the predictions\nprint(\"Predictions: {}\".format(y_pred)) ",
    "outputsMetadata": {
     "0": {
      "height": 37,
      "type": "stream"
     }
    }
   },
   "outputs": [
    {
     "name": "stdout",
     "output_type": "stream",
     "text": [
      "Predictions: [1 1 0]\n"
     ]
    }
   ],
   "source": [
    "# Additional data\n",
    "X_new = np.array([[ 35,  20], [99,  29.1], [217,  12.9]])\n",
    "\n",
    "# Predict the labels for the X_new\n",
    "y_pred = knn.predict(X_new)\n",
    "\n",
    "# Print the predictions\n",
    "print(\"Predictions: {}\".format(y_pred))"
   ]
  },
  {
   "cell_type": "markdown",
   "id": "69cf556b-46e9-4bde-a0c6-7daad8288610",
   "metadata": {
    "jupyter": {
     "outputs_hidden": false,
     "source_hidden": false
    },
    "tags": []
   },
   "source": [
    "# Validation Set Approach\n",
    "\n",
    "For testing the model, the data are split into training and test using the train_test_split modeule of scikit learn. The training data is used to train the model whereas the test data is used to test the model and evaluate the MSE (in case of a metric variable) or the precision (qualitative data).\n",
    "\n",
    "Drwabacks of the validation set approach (Gareth et al. 2023):\n",
    "\n",
    "1. The validation estimate of the test error rate can be highly variable, depending on pre- cisely which observations are included in the training set and which observations are included in the validation set.\n",
    "\n",
    "2. In the validation approach, only a subset of the observations — those that are included in the training set rather than in the validation set — are used to fit the model. Since statistical methods tend to perform worse when trained on fewer observations, this suggests that the validation set error rate may tend to overestimate the test error rate for the model fit on the entire data set.\n",
    "\n",
    "## Applying validation set approach on telecomunication churn \n",
    "\n",
    "In the following example, the telecomunication data is split into 90% training data and 10% test data. Next, we fit kNN model with k = 6 and compute model accuracy using the test data which equals 85.46 percent which is quite good."
   ]
  },
  {
   "cell_type": "code",
   "execution_count": 6,
   "id": "f99ca2aa-056d-4e9d-ba48-1e14253eddeb",
   "metadata": {
    "collapsed": false,
    "executionCancelledAt": null,
    "executionTime": 24,
    "jupyter": {
     "outputs_hidden": false,
     "source_hidden": false
    },
    "lastExecutedAt": 1705770521397,
    "lastScheduledRunId": null,
    "lastSuccessfullyExecutedCode": "# Import the module\nfrom sklearn.model_selection import train_test_split\n\n# kNN-Model\nknn = KNeighborsClassifier(n_neighbors=6)\n\n# Split into training and test sets\nX_train, X_test, y_train, y_test = train_test_split(X, y, test_size=0.1, random_state=52, stratify=y)\n\n# Fit the classifier to the training data\nknn.fit(X_train, y_train)\n\n# Print accuracy\nprint(knn.score(X_test, y_test))",
    "outputsMetadata": {
     "0": {
      "height": 37,
      "type": "stream"
     }
    }
   },
   "outputs": [
    {
     "name": "stdout",
     "output_type": "stream",
     "text": [
      "0.8622754491017964\n"
     ]
    }
   ],
   "source": [
    "# kNN-Model\n",
    "knn = KNeighborsClassifier(n_neighbors=6)\n",
    "\n",
    "# Split into training and test sets\n",
    "X_train, X_test, y_train, y_test = train_test_split(X, y, test_size=0.1, random_state=52, stratify=y)\n",
    "\n",
    "# Fit the classifier to the training data\n",
    "knn.fit(X_train, y_train)\n",
    "\n",
    "# Print accuracy\n",
    "print(knn.score(X_test, y_test))"
   ]
  },
  {
   "cell_type": "markdown",
   "id": "7d468b6b-8477-4ba1-b4fa-e31bfcca1ea4",
   "metadata": {
    "jupyter": {
     "outputs_hidden": false,
     "source_hidden": false
    }
   },
   "source": [
    "Next, using validation set approach I train several models for k=1 to k=12 and compute model accuracy for the training and test data. Then, the results are plotted. It is obvous that the model works always better on the training data than on the test data."
   ]
  },
  {
   "cell_type": "code",
   "execution_count": 7,
   "id": "8cf0cf98-1e65-429c-91be-65f07f2b0634",
   "metadata": {
    "collapsed": false,
    "executionCancelledAt": null,
    "executionTime": 918,
    "jupyter": {
     "outputs_hidden": false,
     "source_hidden": false
    },
    "lastExecutedAt": 1705770526358,
    "lastScheduledRunId": null,
    "lastSuccessfullyExecutedCode": "# Create range for neighbors\nneighbors = np.arange(1, 13)\n\ntrain_accuracy = {}\ntest_accuracy = {}\n\nfor neighbor in neighbors:\n  \n\t# Set up a KNN Classifier\n\tknn = KNeighborsClassifier(n_neighbors=neighbor)\n  \n\t# Fit the model\n\tknn.fit(X_train, y_train)\n  \n\t# Compute accuracy\n\ttrain_accuracy[neighbor] = knn.score(X_train, y_train)\n\ttest_accuracy[neighbor] = knn.score(X_test, y_test)\n\n# Add a title\nplt.title(\"KNN: Varying Number of Neighbors\")\n\n# Plot training accuracies\nplt.plot(neighbors,train_accuracy.values(), label=\"Training Accuracy\")\n\n# Plot test accuracies\nplt.plot(neighbors, test_accuracy.values(), label=\"Testing Accuracy\")\n\nplt.legend()\nplt.xlabel(\"Number of Neighbors\")\nplt.ylabel(\"Accuracy\")\n\n# Display the plot\nplt.show()"
   },
   "outputs": [
    {
     "data": {
      "image/png": "[encoded data removed]",
      "text/plain": [
       "<Figure size 640x480 with 1 Axes>"
      ]
     },
     "metadata": {},
     "output_type": "display_data"
    }
   ],
   "source": [
    "# Create range for neighbors\n",
    "neighbors = np.arange(1, 12)\n",
    "\n",
    "train_accuracy = {}\n",
    "test_accuracy = {}\n",
    "\n",
    "for neighbor in neighbors:\n",
    "  \n",
    "\t# Set up a KNN Classifier\n",
    "\tknn = KNeighborsClassifier(n_neighbors=neighbor)\n",
    "  \n",
    "\t# Fit the model\n",
    "\tknn.fit(X_train, y_train)\n",
    "  \n",
    "\t# Compute accuracy\n",
    "\ttrain_accuracy[neighbor] = knn.score(X_train, y_train)\n",
    "\ttest_accuracy[neighbor] = knn.score(X_test, y_test)\n",
    "\n",
    "# Add a title\n",
    "plt.title(\"KNN: Varying Number of Neighbors\")\n",
    "\n",
    "# Plot training accuracies\n",
    "plt.plot(neighbors, train_accuracy.values(), label=\"Training Accuracy\")\n",
    "\n",
    "# Plot test accuracies\n",
    "plt.plot(neighbors, test_accuracy.values(), label=\"Testing Accuracy\")\n",
    "\n",
    "plt.legend()\n",
    "plt.xlabel(\"Number of Neighbors\")\n",
    "plt.ylabel(\"Accuracy\")\n",
    "\n",
    "# Display the plot\n",
    "plt.show()"
   ]
  },
  {
   "cell_type": "markdown",
   "id": "fe5d8265-a589-41dc-accc-22b59e29c2a9",
   "metadata": {
    "jupyter": {
     "outputs_hidden": false,
     "source_hidden": false
    }
   },
   "source": [
    "# k-fold Cross Validation Approach\n",
    "\n",
    "The k-fold cross validation approach involves randomly dividing the data into k groups of approximately equal size. The first fold is treated as a test set, and the model is fit on the remaining k − 1 folds. The mean squared error is then computed on the observations in the held-out fold. This procedure is repeated k times; each time, a different group of observations is treated as a validation set. This process results in k estimates of the test error which can be averaged to the CV estimate.\n",
    "\n",
    "### Applying k-fold cross validation approach on telecomunication churn\n",
    "\n",
    "Next, I apply a k-fold cross validation approach using 10 folds on telecominication churn. The KFold instance is used to define the folding parameters. The cross_val_score instance is used to compute model score which is accuracy in the case of kNN."
   ]
  },
  {
   "cell_type": "code",
   "execution_count": 8,
   "id": "b80c8f75-4c8b-40cf-883f-75b10fde54fd",
   "metadata": {
    "collapsed": false,
    "executionCancelledAt": null,
    "executionTime": 99,
    "jupyter": {
     "outputs_hidden": false,
     "source_hidden": false
    },
    "lastExecutedAt": 1705770531728,
    "lastScheduledRunId": null,
    "lastSuccessfullyExecutedCode": "# Loading KFold class from model_selection module\nfrom sklearn.model_selection import KFold, cross_val_score\n\n# Defining kfolds for cross-validation\nkf = KFold(n_splits=10, random_state=42, shuffle=True)\n\n# Computing CV scores\ncv_scores = cross_val_score(knn, X, y, cv=kf)\n\n# Print cv scores \nprint(cv_scores)",
    "outputsMetadata": {
     "0": {
      "height": 57,
      "type": "stream"
     }
    }
   },
   "outputs": [
    {
     "name": "stdout",
     "output_type": "stream",
     "text": [
      "[0.83832335 0.85928144 0.8742515  0.83783784 0.82882883 0.86186186\n",
      " 0.88888889 0.87687688 0.84084084 0.85885886]\n"
     ]
    }
   ],
   "source": [
    "# Defining kfolds for cross-validation\n",
    "kf = KFold(n_splits=10, random_state=42, shuffle=True)\n",
    "\n",
    "# Computing CV scores\n",
    "cv_scores = cross_val_score(knn, X, y, cv=kf)\n",
    "\n",
    "# Print cv scores \n",
    "print(cv_scores)"
   ]
  },
  {
   "cell_type": "code",
   "execution_count": 9,
   "id": "8e3774c3-0cc2-454a-9801-fc2c370bcd5c",
   "metadata": {
    "collapsed": false,
    "executionCancelledAt": null,
    "executionTime": 13,
    "jupyter": {
     "outputs_hidden": false,
     "source_hidden": false
    },
    "lastExecutedAt": 1705770534817,
    "lastScheduledRunId": null,
    "lastSuccessfullyExecutedCode": "# Evaluating k-fold\nprint(\"Lowest accuracy: {}\".format(cv_scores.min()))\nprint(\"Highest accuracy: {}\".format(cv_scores.max()))\nprint(\"Mean Accuracy: {}\".format(cv_scores.mean()))",
    "outputsMetadata": {
     "0": {
      "height": 77,
      "type": "stream"
     }
    }
   },
   "outputs": [
    {
     "name": "stdout",
     "output_type": "stream",
     "text": [
      "Lowest accuracy: 0.8288288288288288\n",
      "Highest accuracy: 0.8888888888888888\n",
      "Mean Accuracy: 0.8565850281419143\n"
     ]
    }
   ],
   "source": [
    "# Evaluating k-fold\n",
    "print(\"Lowest accuracy: {}\".format(cv_scores.min()))\n",
    "print(\"Highest accuracy: {}\".format(cv_scores.max()))\n",
    "print(\"Mean Accuracy: {}\".format(cv_scores.mean()))"
   ]
  },
  {
   "cell_type": "markdown",
   "id": "5bdd18b9-6da4-4304-b66d-a28920a09010",
   "metadata": {
    "tags": []
   },
   "source": [
    "# Model assessment\n",
    "\n",
    "### Confusion Matrix\n",
    "\n",
    "A confusion matrix is an array for true/false positives and negatives. It is used to compute several model scores which have different intentions when it comes to evaluating a models performance."
   ]
  },
  {
   "cell_type": "markdown",
   "id": "52a31584-e724-4d66-96ec-875e07038209",
   "metadata": {
    "tags": []
   },
   "source": [
    "### Confusion matrix for telecomunication churn\n",
    "\n",
    "- 285 observations are true positive, i.e. predicted as churned and have cancelled their contract\n",
    "- 1 observation is false positive, i.e. predicted as churned but has not cancelled her contract\n",
    "- 47 observations are true negative, i.e. predicted as not churned and have indeed not cancelled their contract\n",
    "- 1 observation is false negative, i.e. predicted as not chunred but has cancelled her contract\n"
   ]
  },
  {
   "cell_type": "code",
   "execution_count": 10,
   "id": "b34f891f-57ea-40e7-8067-ae791b3276d6",
   "metadata": {
    "collapsed": false,
    "executionCancelledAt": null,
    "executionTime": 21,
    "jupyter": {
     "outputs_hidden": false,
     "source_hidden": false
    },
    "lastExecutedAt": 1705770539469,
    "lastScheduledRunId": null,
    "lastSuccessfullyExecutedCode": "# Defining & training kNN model\nknn = KNeighborsClassifier(n_neighbors=neighbor)\nknn.fit(X_train, y_train)\n\n# Computing predictions for test data\ny_pred = knn.predict(X_test)\n\n# Generate the confusion matrix a\nprint(confusion_matrix(y_test, y_pred))",
    "outputsMetadata": {
     "0": {
      "height": 57,
      "type": "stream"
     }
    }
   },
   "outputs": [
    {
     "name": "stdout",
     "output_type": "stream",
     "text": [
      "[[285   1]\n",
      " [ 45   3]]\n"
     ]
    }
   ],
   "source": [
    "# Defining & training kNN model\n",
    "knn = KNeighborsClassifier(n_neighbors=neighbor)\n",
    "knn.fit(X_train, y_train)\n",
    "\n",
    "# Computing predictions for test data\n",
    "y_pred = knn.predict(X_test)\n",
    "\n",
    "# Generate the confusion matrix a\n",
    "print(confusion_matrix(y_test, y_pred))"
   ]
  },
  {
   "cell_type": "markdown",
   "id": "412a4d62-c131-4d4a-b0ad-a78dfad16fed",
   "metadata": {},
   "source": [
    "### Model scores\n",
    "\n",
    "#### Accuracy\n",
    "\n",
    "Accuracy can be interpreted as model goodness. It is defined as the ratio of true positives & true negatives to all observations.\n",
    "\n",
    "#### Preision\n",
    "\n",
    "Precision is the ratio of true positives to true & false positives. A higher precision implies a lower false positive rate. Or: How many are correctly classified among that class?\n",
    "\n",
    "#### Recall\n",
    "Recall is the ratio of true positives to true positives & false negatives. A higher recall implies a lower false negative rate. Or:  How many of this class you find over the whole number of elements of this class?\n",
    "\n",
    "#### Support\n",
    "The support is the number of true positives or true negatives in the test data.\n",
    "\n",
    "#### f1-ccore\n",
    "Weighted harmonic mean of precision and recall. The higher the precision and the higher the recall, the better is the f1-score."
   ]
  },
  {
   "cell_type": "markdown",
   "id": "59835502-5fd6-43c1-9e4b-435f946d844d",
   "metadata": {},
   "source": [
    "### Model metrics for telecomunication churn\n",
    "\n",
    "#### Accuracy\n",
    "\n",
    "In this case, model accuracy can be interpreted as the share of correct predictions (true churns, true non-churns) with respect to overall size of the test dataset.\n",
    "\n",
    "#### Precision\n",
    "\n",
    "Precision is the number of correctly predicted churns relative to the number of predicted churns for the group of true churns in the test data (subsample where churn = 1). Converserly, the second number is the share of correctly predicted non-churns realtive to the overall number of predicted non-churns (subsample where churn = 0).\n",
    "\n",
    "#### Recall\n",
    "\n",
    "Recall is the share of correctly predicted churns to the total number of true churns in the test data. Converserly, the seocnd number is the share of correctly predicted non-churns relative to number of non-churns in the test data.\n",
    "\n",
    "#### f1-Score\n",
    "\n",
    "The f1-Score ist the weighted average of precision and recall. "
   ]
  },
  {
   "cell_type": "code",
   "execution_count": 11,
   "id": "ce692315-0f0a-4252-89f3-53dc3e25bb21",
   "metadata": {
    "executionCancelledAt": null,
    "executionTime": 15,
    "lastExecutedAt": 1705770543180,
    "lastScheduledRunId": null,
    "lastSuccessfullyExecutedCode": "from sklearn.metrics import classification_report\n# Generate the classification report\nprint(classification_report(y_test, y_pred, target_names = [\"Churned\", \"Not churned\"]))",
    "outputsMetadata": {
     "0": {
      "height": 197,
      "type": "stream"
     }
    }
   },
   "outputs": [
    {
     "name": "stdout",
     "output_type": "stream",
     "text": [
      "              precision    recall  f1-score   support\n",
      "\n",
      "     Churned       0.86      1.00      0.93       286\n",
      " Not churned       0.75      0.06      0.12        48\n",
      "\n",
      "    accuracy                           0.86       334\n",
      "   macro avg       0.81      0.53      0.52       334\n",
      "weighted avg       0.85      0.86      0.81       334\n",
      "\n"
     ]
    }
   ],
   "source": [
    "# Generate the classification report\n",
    "print(classification_report(y_test, y_pred, target_names = [\"Churned\", \"Not churned\"]))"
   ]
  },
  {
   "cell_type": "markdown",
   "id": "b89a27a5-5db4-4174-a455-ae5e956a7b95",
   "metadata": {},
   "source": [
    "# Hyperparameter Tuning"
   ]
  },
  {
   "cell_type": "markdown",
   "id": "d5f1b7c3-42a5-45c2-a7a8-f9af5f5a3424",
   "metadata": {},
   "source": [
    "## GridSearchCV\n",
    "\n",
    "GridsearchCV trains the models for each hyperparameter along the pre-defined grid and is therefore computationally intensive. In scikitlearn, GridSearchCV is implemented in the model_selection module. In this case, I use GridSearchCV along a scale from 1 to 14 to compute the best value for k. As cross validation approach, I use a k-fold strategy with 5 folds."
   ]
  },
  {
   "cell_type": "code",
   "execution_count": 12,
   "id": "b624ad7f-3d0f-4b18-be44-d0917ed354cc",
   "metadata": {},
   "outputs": [
    {
     "data": {
      "text/html": [
       "<div>\n",
       "<style scoped>\n",
       "    .dataframe tbody tr th:only-of-type {\n",
       "        vertical-align: middle;\n",
       "    }\n",
       "\n",
       "    .dataframe tbody tr th {\n",
       "        vertical-align: top;\n",
       "    }\n",
       "\n",
       "    .dataframe thead th {\n",
       "        text-align: right;\n",
       "    }\n",
       "</style>\n",
       "<table border=\"1\" class=\"dataframe\">\n",
       "  <thead>\n",
       "    <tr style=\"text-align: right;\">\n",
       "      <th></th>\n",
       "      <th>params</th>\n",
       "      <th>split0_test_score</th>\n",
       "      <th>split1_test_score</th>\n",
       "      <th>split2_test_score</th>\n",
       "      <th>mean_test_score</th>\n",
       "      <th>std_test_score</th>\n",
       "      <th>rank_test_score</th>\n",
       "    </tr>\n",
       "  </thead>\n",
       "  <tbody>\n",
       "    <tr>\n",
       "      <th>5</th>\n",
       "      <td>{'n_neighbors': 6}</td>\n",
       "      <td>0.839286</td>\n",
       "      <td>0.846847</td>\n",
       "      <td>0.882883</td>\n",
       "      <td>0.856338</td>\n",
       "      <td>0.019022</td>\n",
       "      <td>1</td>\n",
       "    </tr>\n",
       "    <tr>\n",
       "      <th>9</th>\n",
       "      <td>{'n_neighbors': 10}</td>\n",
       "      <td>0.839286</td>\n",
       "      <td>0.846847</td>\n",
       "      <td>0.882883</td>\n",
       "      <td>0.856338</td>\n",
       "      <td>0.019022</td>\n",
       "      <td>1</td>\n",
       "    </tr>\n",
       "    <tr>\n",
       "      <th>10</th>\n",
       "      <td>{'n_neighbors': 11}</td>\n",
       "      <td>0.839286</td>\n",
       "      <td>0.846847</td>\n",
       "      <td>0.882883</td>\n",
       "      <td>0.856338</td>\n",
       "      <td>0.019022</td>\n",
       "      <td>1</td>\n",
       "    </tr>\n",
       "    <tr>\n",
       "      <th>7</th>\n",
       "      <td>{'n_neighbors': 8}</td>\n",
       "      <td>0.839286</td>\n",
       "      <td>0.846847</td>\n",
       "      <td>0.873874</td>\n",
       "      <td>0.853335</td>\n",
       "      <td>0.014847</td>\n",
       "      <td>4</td>\n",
       "    </tr>\n",
       "    <tr>\n",
       "      <th>8</th>\n",
       "      <td>{'n_neighbors': 9}</td>\n",
       "      <td>0.839286</td>\n",
       "      <td>0.846847</td>\n",
       "      <td>0.873874</td>\n",
       "      <td>0.853335</td>\n",
       "      <td>0.014847</td>\n",
       "      <td>4</td>\n",
       "    </tr>\n",
       "    <tr>\n",
       "      <th>3</th>\n",
       "      <td>{'n_neighbors': 4}</td>\n",
       "      <td>0.830357</td>\n",
       "      <td>0.846847</td>\n",
       "      <td>0.873874</td>\n",
       "      <td>0.850359</td>\n",
       "      <td>0.017938</td>\n",
       "      <td>6</td>\n",
       "    </tr>\n",
       "    <tr>\n",
       "      <th>1</th>\n",
       "      <td>{'n_neighbors': 2}</td>\n",
       "      <td>0.839286</td>\n",
       "      <td>0.837838</td>\n",
       "      <td>0.873874</td>\n",
       "      <td>0.850332</td>\n",
       "      <td>0.016657</td>\n",
       "      <td>7</td>\n",
       "    </tr>\n",
       "    <tr>\n",
       "      <th>4</th>\n",
       "      <td>{'n_neighbors': 5}</td>\n",
       "      <td>0.812500</td>\n",
       "      <td>0.855856</td>\n",
       "      <td>0.873874</td>\n",
       "      <td>0.847410</td>\n",
       "      <td>0.025758</td>\n",
       "      <td>8</td>\n",
       "    </tr>\n",
       "    <tr>\n",
       "      <th>6</th>\n",
       "      <td>{'n_neighbors': 7}</td>\n",
       "      <td>0.821429</td>\n",
       "      <td>0.846847</td>\n",
       "      <td>0.873874</td>\n",
       "      <td>0.847383</td>\n",
       "      <td>0.021414</td>\n",
       "      <td>9</td>\n",
       "    </tr>\n",
       "    <tr>\n",
       "      <th>2</th>\n",
       "      <td>{'n_neighbors': 3}</td>\n",
       "      <td>0.839286</td>\n",
       "      <td>0.837838</td>\n",
       "      <td>0.837838</td>\n",
       "      <td>0.838320</td>\n",
       "      <td>0.000683</td>\n",
       "      <td>10</td>\n",
       "    </tr>\n",
       "  </tbody>\n",
       "</table>\n",
       "</div>"
      ],
      "text/plain": [
       "                 params  split0_test_score  split1_test_score  \\\n",
       "5    {'n_neighbors': 6}           0.839286           0.846847   \n",
       "9   {'n_neighbors': 10}           0.839286           0.846847   \n",
       "10  {'n_neighbors': 11}           0.839286           0.846847   \n",
       "7    {'n_neighbors': 8}           0.839286           0.846847   \n",
       "8    {'n_neighbors': 9}           0.839286           0.846847   \n",
       "3    {'n_neighbors': 4}           0.830357           0.846847   \n",
       "1    {'n_neighbors': 2}           0.839286           0.837838   \n",
       "4    {'n_neighbors': 5}           0.812500           0.855856   \n",
       "6    {'n_neighbors': 7}           0.821429           0.846847   \n",
       "2    {'n_neighbors': 3}           0.839286           0.837838   \n",
       "\n",
       "    split2_test_score  mean_test_score  std_test_score  rank_test_score  \n",
       "5            0.882883         0.856338        0.019022                1  \n",
       "9            0.882883         0.856338        0.019022                1  \n",
       "10           0.882883         0.856338        0.019022                1  \n",
       "7            0.873874         0.853335        0.014847                4  \n",
       "8            0.873874         0.853335        0.014847                4  \n",
       "3            0.873874         0.850359        0.017938                6  \n",
       "1            0.873874         0.850332        0.016657                7  \n",
       "4            0.873874         0.847410        0.025758                8  \n",
       "6            0.873874         0.847383        0.021414                9  \n",
       "2            0.837838         0.838320        0.000683               10  "
      ]
     },
     "execution_count": 12,
     "metadata": {},
     "output_type": "execute_result"
    }
   ],
   "source": [
    "# Defining kfolds for cross-validation\n",
    "kf = KFold(n_splits=3, random_state=42, shuffle=True)\n",
    "\n",
    "# Set up the parameter grid\n",
    "param_grid = {\"n_neighbors\": list(range(1, 12))}\n",
    "\n",
    "# Initiate knn\n",
    "knn_cv = GridSearchCV(knn, param_grid, cv=kf)\n",
    "\n",
    "# Fit to the training data\n",
    "knn_cv.fit(X_test, y_test)\n",
    "\n",
    "# Results of GridSearchCV\n",
    "pd.DataFrame(knn_cv.cv_results_).iloc[1:,5:].sort_values(\"rank_test_score\")"
   ]
  },
  {
   "cell_type": "code",
   "execution_count": 13,
   "id": "99d1f894-9b39-4bfe-bcab-1615fec86ff0",
   "metadata": {},
   "outputs": [
    {
     "name": "stdout",
     "output_type": "stream",
     "text": [
      "Tuned k: {'n_neighbors': 6}\n",
      "Tuned k score: 0.8563384813384812\n"
     ]
    }
   ],
   "source": [
    "# Print best parameters\n",
    "print(\"Tuned k: {}\".format(knn_cv.best_params_))\n",
    "print(\"Tuned k score: {}\".format(knn_cv.best_score_))"
   ]
  },
  {
   "cell_type": "markdown",
   "id": "aa99972a-3cb7-4847-8a47-0a8db485c778",
   "metadata": {},
   "source": [
    "## RandomizedSearchCV\n",
    "\n",
    "RandomizedSearchCV explores random combinations of hyperparameters within specified distributions or ranges. Instead of specifying value grids, probability distributions or ranges for hyperparameters are defined. The algorithm samples randomly combinations of these hyperparameters or distributions and computes scores.\n",
    "\n",
    "The following example applies randomized search by picking 5 values for k randomly from a list of 1 to 10 and computes model accuracy using 5-fold cross validation approach. According to scikit-learn, the algorithm samples without replacement which makes pretty much sense when parameter space is not infinite. This use case is pretty simple since the hyperparameter space is one-dimensional (we only have to set the number of neighbors chosen for the prediction). \n",
    "\n",
    "The apporach becomes more interesting when the hyperparameter space is multi-dimensional and combinations of hyperparameters are chosen randomly. This approach is even more powerful when using parameter distributions instead of lists.\n"
   ]
  },
  {
   "cell_type": "code",
   "execution_count": 28,
   "id": "93a783f5-f8e7-4d90-8f1a-134d6f436bb1",
   "metadata": {},
   "outputs": [
    {
     "data": {
      "text/html": [
       "<div>\n",
       "<style scoped>\n",
       "    .dataframe tbody tr th:only-of-type {\n",
       "        vertical-align: middle;\n",
       "    }\n",
       "\n",
       "    .dataframe tbody tr th {\n",
       "        vertical-align: top;\n",
       "    }\n",
       "\n",
       "    .dataframe thead th {\n",
       "        text-align: right;\n",
       "    }\n",
       "</style>\n",
       "<table border=\"1\" class=\"dataframe\">\n",
       "  <thead>\n",
       "    <tr style=\"text-align: right;\">\n",
       "      <th></th>\n",
       "      <th>params</th>\n",
       "      <th>split0_test_score</th>\n",
       "      <th>split1_test_score</th>\n",
       "      <th>split2_test_score</th>\n",
       "      <th>mean_test_score</th>\n",
       "      <th>std_test_score</th>\n",
       "      <th>rank_test_score</th>\n",
       "    </tr>\n",
       "  </thead>\n",
       "  <tbody>\n",
       "    <tr>\n",
       "      <th>2</th>\n",
       "      <td>{'n_neighbors': 6}</td>\n",
       "      <td>0.839286</td>\n",
       "      <td>0.846847</td>\n",
       "      <td>0.882883</td>\n",
       "      <td>0.856338</td>\n",
       "      <td>0.019022</td>\n",
       "      <td>1</td>\n",
       "    </tr>\n",
       "    <tr>\n",
       "      <th>4</th>\n",
       "      <td>{'n_neighbors': 9}</td>\n",
       "      <td>0.839286</td>\n",
       "      <td>0.846847</td>\n",
       "      <td>0.873874</td>\n",
       "      <td>0.853335</td>\n",
       "      <td>0.014847</td>\n",
       "      <td>2</td>\n",
       "    </tr>\n",
       "    <tr>\n",
       "      <th>1</th>\n",
       "      <td>{'n_neighbors': 2}</td>\n",
       "      <td>0.839286</td>\n",
       "      <td>0.837838</td>\n",
       "      <td>0.873874</td>\n",
       "      <td>0.850332</td>\n",
       "      <td>0.016657</td>\n",
       "      <td>4</td>\n",
       "    </tr>\n",
       "    <tr>\n",
       "      <th>3</th>\n",
       "      <td>{'n_neighbors': 1}</td>\n",
       "      <td>0.776786</td>\n",
       "      <td>0.765766</td>\n",
       "      <td>0.774775</td>\n",
       "      <td>0.772442</td>\n",
       "      <td>0.004792</td>\n",
       "      <td>5</td>\n",
       "    </tr>\n",
       "  </tbody>\n",
       "</table>\n",
       "</div>"
      ],
      "text/plain": [
       "               params  split0_test_score  split1_test_score  \\\n",
       "2  {'n_neighbors': 6}           0.839286           0.846847   \n",
       "4  {'n_neighbors': 9}           0.839286           0.846847   \n",
       "1  {'n_neighbors': 2}           0.839286           0.837838   \n",
       "3  {'n_neighbors': 1}           0.776786           0.765766   \n",
       "\n",
       "   split2_test_score  mean_test_score  std_test_score  rank_test_score  \n",
       "2           0.882883         0.856338        0.019022                1  \n",
       "4           0.873874         0.853335        0.014847                2  \n",
       "1           0.873874         0.850332        0.016657                4  \n",
       "3           0.774775         0.772442        0.004792                5  "
      ]
     },
     "execution_count": 28,
     "metadata": {},
     "output_type": "execute_result"
    }
   ],
   "source": [
    "# Set up the parameter grid\n",
    "param_grid = {\"n_neighbors\": list(range(1, 10))}\n",
    "\n",
    "# Initiate knn\n",
    "knn_cv = RandomizedSearchCV(knn, param_grid, cv=kf, n_iter = 5, random_state = 42)\n",
    "\n",
    "# Fit to the training data\n",
    "knn_cv.fit(X_test, y_test)\n",
    "\n",
    "# Results of GridSearchCVß\n",
    "pd.DataFrame(knn_cv.cv_results_).iloc[1:,5:].sort_values(\"rank_test_score\")"
   ]
  }
 ],
 "metadata": {
  "colab": {
   "name": "Welcome to DataCamp Workspaces.ipynb",
   "provenance": []
  },
  "editor": "DataCamp Workspace",
  "kernelspec": {
   "display_name": "Python 3 (ipykernel)",
   "language": "python",
   "name": "python3"
  },
  "language_info": {
   "codemirror_mode": {
    "name": "ipython",
    "version": 3
   },
   "file_extension": ".py",
   "mimetype": "text/x-python",
   "name": "python",
   "nbconvert_exporter": "python",
   "pygments_lexer": "ipython3",
   "version": "3.9.13"
  }
 },
 "nbformat": 4,
 "nbformat_minor": 5
}
