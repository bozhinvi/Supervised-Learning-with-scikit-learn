{
 "cells": [
  {
   "cell_type": "markdown",
   "id": "prostate-arizona",
   "metadata": {
    "id": "bA5ajAmk7XH6"
   },
   "source": [
    "# Supervised Learning with scikit-learn (kNN)"
   ]
  },
  {
   "cell_type": "code",
   "execution_count": 1,
   "id": "2e25fdd8-4d84-45bc-80f0-949917e00a17",
   "metadata": {
    "collapsed": false,
    "executionCancelledAt": null,
    "executionTime": 27,
    "jupyter": {
     "outputs_hidden": false,
     "source_hidden": false
    },
    "lastExecutedAt": 1705770460768,
    "lastScheduledRunId": null,
    "lastSuccessfullyExecutedCode": "# Importing pandas\nimport pandas as pd\nimport numpy as np\nimport matplotlib.pyplot as plt\nfrom sklearn.neighbors import KNeighborsClassifier\nfrom sklearn.metrics import confusion_matrix, classification_report\nfrom sklearn.model_selection import train_test_split\nfrom sklearn.metrics import roc_curve\nfrom sklearn.metrics import roc_auc_score\n\n# Importing the course datasets \ndiabetes_df = pd.read_csv('datasets/diabetes_clean.csv')\nmusic = pd.read_csv('datasets/music_clean.csv')\nadvertising = pd.read_csv('datasets/advertising_and_sales_clean.csv')"
   },
   "outputs": [],
   "source": [
    "# Importing pandas\n",
    "import pandas as pd\n",
    "import numpy as np\n",
    "import matplotlib.pyplot as plt\n",
    "from sklearn.neighbors import KNeighborsClassifier\n",
    "from sklearn.metrics import confusion_matrix, classification_report\n",
    "from sklearn.model_selection import train_test_split\n",
    "from sklearn.metrics import roc_curve\n",
    "from sklearn.metrics import roc_auc_score\n",
    "\n",
    "# Importing the course datasets \n",
    "diabetes_df = pd.read_csv('datasets/diabetes_clean.csv')\n",
    "music = pd.read_csv('datasets/music_clean.csv')\n",
    "advertising = pd.read_csv('datasets/advertising_and_sales_clean.csv')"
   ]
  },
  {
   "cell_type": "markdown",
   "id": "38152e1b-55bc-4a5e-a0f5-750d05e784d4",
   "metadata": {},
   "source": [
    "# k-Nearest Neighbors"
   ]
  },
  {
   "cell_type": "markdown",
   "id": "ac7d382c-ba24-4e51-9483-6179c5596c88",
   "metadata": {},
   "source": [
    "kNN is used for matching based on distance (Euclidean or Manhatten). k is here the hyperparameter which is used to set the number of the nearest neighbors which are used to predict the value.\n",
    "\n",
    "In the following example, telecomunications churn data is used to train a kNN model aiming to predict consumer churn. Hereby, I use all 3333 observations to train the model with account length and the number of customer service calls as features. An example dataset of three observations are used to compute predictions."
   ]
  },
  {
   "cell_type": "code",
   "execution_count": 4,
   "id": "465f2861-3e75-48d9-92d6-fb968e28ff59",
   "metadata": {
    "chartConfig": {
     "bar": {
      "hasRoundedCorners": true,
      "stacked": false
     },
     "type": "bar",
     "version": "v1"
    },
    "executionCancelledAt": null,
    "executionTime": 74,
    "lastExecutedAt": 1705770465666,
    "lastScheduledRunId": null,
    "lastSuccessfullyExecutedCode": "# Import telecominication churn data\nchurn_df = pd.read_csv(\"datasets/telecom_churn_clean.csv\")\n\n# Dataset\nchurn_df.describe()",
    "outputsMetadata": {
     "0": {
      "height": 273,
      "type": "dataFrame"
     }
    },
    "visualizeDataframe": false
   },
   "outputs": [
    {
     "data": {
      "text/html": [
       "<div>\n",
       "<style scoped>\n",
       "    .dataframe tbody tr th:only-of-type {\n",
       "        vertical-align: middle;\n",
       "    }\n",
       "\n",
       "    .dataframe tbody tr th {\n",
       "        vertical-align: top;\n",
       "    }\n",
       "\n",
       "    .dataframe thead th {\n",
       "        text-align: right;\n",
       "    }\n",
       "</style>\n",
       "<table border=\"1\" class=\"dataframe\">\n",
       "  <thead>\n",
       "    <tr style=\"text-align: right;\">\n",
       "      <th></th>\n",
       "      <th>churn</th>\n",
       "      <th>account_length</th>\n",
       "      <th>customer_service_calls</th>\n",
       "    </tr>\n",
       "  </thead>\n",
       "  <tbody>\n",
       "    <tr>\n",
       "      <th>count</th>\n",
       "      <td>3333.000000</td>\n",
       "      <td>3333.000000</td>\n",
       "      <td>3333.000000</td>\n",
       "    </tr>\n",
       "    <tr>\n",
       "      <th>mean</th>\n",
       "      <td>0.144914</td>\n",
       "      <td>101.064806</td>\n",
       "      <td>1.562856</td>\n",
       "    </tr>\n",
       "    <tr>\n",
       "      <th>std</th>\n",
       "      <td>0.352067</td>\n",
       "      <td>39.822106</td>\n",
       "      <td>1.315491</td>\n",
       "    </tr>\n",
       "    <tr>\n",
       "      <th>min</th>\n",
       "      <td>0.000000</td>\n",
       "      <td>1.000000</td>\n",
       "      <td>0.000000</td>\n",
       "    </tr>\n",
       "    <tr>\n",
       "      <th>25%</th>\n",
       "      <td>0.000000</td>\n",
       "      <td>74.000000</td>\n",
       "      <td>1.000000</td>\n",
       "    </tr>\n",
       "    <tr>\n",
       "      <th>50%</th>\n",
       "      <td>0.000000</td>\n",
       "      <td>101.000000</td>\n",
       "      <td>1.000000</td>\n",
       "    </tr>\n",
       "    <tr>\n",
       "      <th>75%</th>\n",
       "      <td>0.000000</td>\n",
       "      <td>127.000000</td>\n",
       "      <td>2.000000</td>\n",
       "    </tr>\n",
       "    <tr>\n",
       "      <th>max</th>\n",
       "      <td>1.000000</td>\n",
       "      <td>243.000000</td>\n",
       "      <td>9.000000</td>\n",
       "    </tr>\n",
       "  </tbody>\n",
       "</table>\n",
       "</div>"
      ],
      "text/plain": [
       "             churn  account_length  customer_service_calls\n",
       "count  3333.000000     3333.000000             3333.000000\n",
       "mean      0.144914      101.064806                1.562856\n",
       "std       0.352067       39.822106                1.315491\n",
       "min       0.000000        1.000000                0.000000\n",
       "25%       0.000000       74.000000                1.000000\n",
       "50%       0.000000      101.000000                1.000000\n",
       "75%       0.000000      127.000000                2.000000\n",
       "max       1.000000      243.000000                9.000000"
      ]
     },
     "execution_count": 4,
     "metadata": {},
     "output_type": "execute_result"
    }
   ],
   "source": [
    "# Import telecominication churn data\n",
    "churn_df = pd.read_csv(\"datasets/telecom_churn_clean.csv\")\n",
    "\n",
    "# Dataset\n",
    "churn_df[[\"churn\", \"account_length\", \"customer_service_calls\"]].describe()"
   ]
  },
  {
   "cell_type": "code",
   "execution_count": 43,
   "id": "76217844-5d94-4584-a605-f281f9b500e2",
   "metadata": {
    "executionCancelledAt": null,
    "executionTime": 14,
    "lastExecutedAt": 1705770470238,
    "lastScheduledRunId": null,
    "lastSuccessfullyExecutedCode": "# Import KNeighborsClassifier\nfrom sklearn.neighbors import KNeighborsClassifier \n\n# Split data into X and y\ny = churn_df[\"churn\"].values\nX = churn_df[[\"account_length\", \"customer_service_calls\"]].values\n\n# Create a KNN classifier with 6 neighbors\nknn = KNeighborsClassifier(n_neighbors=6)\n\n# Fit the classifier to the data\nknn.fit(X, y)",
    "outputsMetadata": {
     "0": {
      "height": 37,
      "type": "stream"
     }
    },
    "tags": []
   },
   "outputs": [
    {
     "data": {
      "text/plain": [
       "KNeighborsClassifier(n_neighbors=6)"
      ]
     },
     "execution_count": 43,
     "metadata": {},
     "output_type": "execute_result"
    }
   ],
   "source": [
    "# Import KNeighborsClassifier\n",
    "from sklearn.neighbors import KNeighborsClassifier \n",
    "\n",
    "# Split data into X and y\n",
    "y = churn_df[\"churn\"].values\n",
    "X = churn_df[[\"account_length\", \"customer_service_calls\"]].values\n",
    "\n",
    "# Create a KNN classifier with 6 neighbors\n",
    "knn = KNeighborsClassifier(n_neighbors=6)\n",
    "\n",
    "# Fit the classifier to the data\n",
    "knn.fit(X, y)"
   ]
  },
  {
   "cell_type": "code",
   "execution_count": 44,
   "id": "d8ec4cc1-f86f-4bce-bb62-e6fb3dd459c5",
   "metadata": {
    "executionCancelledAt": null,
    "executionTime": 13,
    "lastExecutedAt": 1705770476067,
    "lastScheduledRunId": null,
    "lastSuccessfullyExecutedCode": "# Additional data\nX_new = np.array([[ 35. ,  20],\n                  [99. ,  29.1],\n                 [217. ,  12.9]])\n\n# Predict the labels for the X_new\ny_pred = knn.predict(X_new)\n\n# Print the predictions\nprint(\"Predictions: {}\".format(y_pred)) ",
    "outputsMetadata": {
     "0": {
      "height": 37,
      "type": "stream"
     }
    }
   },
   "outputs": [
    {
     "name": "stdout",
     "output_type": "stream",
     "text": [
      "Predictions: [1 1 0]\n"
     ]
    },
    {
     "name": "stderr",
     "output_type": "stream",
     "text": [
      "/opt/anaconda3/lib/python3.9/site-packages/sklearn/neighbors/_classification.py:228: FutureWarning: Unlike other reduction functions (e.g. `skew`, `kurtosis`), the default behavior of `mode` typically preserves the axis it acts along. In SciPy 1.11.0, this behavior will change: the default value of `keepdims` will become False, the `axis` over which the statistic is taken will be eliminated, and the value None will no longer be accepted. Set `keepdims` to True or False to avoid this warning.\n",
      "  mode, _ = stats.mode(_y[neigh_ind, k], axis=1)\n"
     ]
    }
   ],
   "source": [
    "# Additional data\n",
    "X_new = np.array([[ 35,  20], [99,  29.1], [217,  12.9]])\n",
    "\n",
    "# Predict the labels for the X_new\n",
    "y_pred = knn.predict(X_new)\n",
    "\n",
    "# Print the predictions\n",
    "print(\"Predictions: {}\".format(y_pred))"
   ]
  },
  {
   "cell_type": "markdown",
   "id": "69cf556b-46e9-4bde-a0c6-7daad8288610",
   "metadata": {
    "jupyter": {
     "outputs_hidden": false,
     "source_hidden": false
    }
   },
   "source": [
    "# Validation Set Approach\n",
    "\n",
    "For testing the model, the data are split into training and test using the train_test_split modeule of scikit learn. The training data is used to train the model whereas the test data is used to test the model and evaluate the MSE (in case of a metric variable) or the precision (qualitative data).\n",
    "\n",
    "Drwabacks of the validation set approach (Gareth et al. 2023):\n",
    "\n",
    "1. The validation estimate of the test error rate can be highly variable, depending on pre- cisely which observations are included in the training set and which observations are included in the validation set.\n",
    "\n",
    "2. In the validation approach, only a subset of the observations — those that are included in the training set rather than in the validation set — are used to fit the model. Since statistical methods tend to perform worse when trained on fewer observations, this suggests that the validation set error rate may tend to overestimate the test error rate for the model fit on the entire data set.\n",
    "\n",
    "## Applying validation set approach on telecomunication churn \n",
    "\n",
    "In the following example, the telecomunication data is split into 90% training data and 10% test data. Next, we fit kNN model with k = 6 and compute model accuracy using the test data which equals 85.46 percent which is quite good."
   ]
  },
  {
   "cell_type": "code",
   "execution_count": 29,
   "id": "f99ca2aa-056d-4e9d-ba48-1e14253eddeb",
   "metadata": {
    "collapsed": false,
    "executionCancelledAt": null,
    "executionTime": 24,
    "jupyter": {
     "outputs_hidden": false,
     "source_hidden": false
    },
    "lastExecutedAt": 1705770521397,
    "lastScheduledRunId": null,
    "lastSuccessfullyExecutedCode": "# Import the module\nfrom sklearn.model_selection import train_test_split\n\n# kNN-Model\nknn = KNeighborsClassifier(n_neighbors=6)\n\n# Split into training and test sets\nX_train, X_test, y_train, y_test = train_test_split(X, y, test_size=0.1, random_state=52, stratify=y)\n\n# Fit the classifier to the training data\nknn.fit(X_train, y_train)\n\n# Print accuracy\nprint(knn.score(X_test, y_test))",
    "outputsMetadata": {
     "0": {
      "height": 37,
      "type": "stream"
     }
    }
   },
   "outputs": [
    {
     "name": "stdout",
     "output_type": "stream",
     "text": [
      "0.8622754491017964\n"
     ]
    },
    {
     "name": "stderr",
     "output_type": "stream",
     "text": [
      "/opt/anaconda3/lib/python3.9/site-packages/sklearn/neighbors/_classification.py:228: FutureWarning: Unlike other reduction functions (e.g. `skew`, `kurtosis`), the default behavior of `mode` typically preserves the axis it acts along. In SciPy 1.11.0, this behavior will change: the default value of `keepdims` will become False, the `axis` over which the statistic is taken will be eliminated, and the value None will no longer be accepted. Set `keepdims` to True or False to avoid this warning.\n",
      "  mode, _ = stats.mode(_y[neigh_ind, k], axis=1)\n"
     ]
    }
   ],
   "source": [
    "# Import the module\n",
    "from sklearn.model_selection import train_test_split\n",
    "\n",
    "# kNN-Model\n",
    "knn = KNeighborsClassifier(n_neighbors=6)\n",
    "\n",
    "# Split into training and test sets\n",
    "X_train, X_test, y_train, y_test = train_test_split(X, y, test_size=0.1, random_state=52, stratify=y)\n",
    "\n",
    "# Fit the classifier to the training data\n",
    "knn.fit(X_train, y_train)\n",
    "\n",
    "# Print accuracy\n",
    "print(knn.score(X_test, y_test))"
   ]
  },
  {
   "cell_type": "markdown",
   "id": "7d468b6b-8477-4ba1-b4fa-e31bfcca1ea4",
   "metadata": {
    "jupyter": {
     "outputs_hidden": false,
     "source_hidden": false
    }
   },
   "source": [
    "Next, using validation set approach I train several models for k=1 to k=13 and compute model accuracy for the training and test data. Then, the results are visualized in a graph. It is obvous that the model works always better on the training data than on the test data."
   ]
  },
  {
   "cell_type": "code",
   "execution_count": 30,
   "id": "8cf0cf98-1e65-429c-91be-65f07f2b0634",
   "metadata": {
    "collapsed": false,
    "executionCancelledAt": null,
    "executionTime": 918,
    "jupyter": {
     "outputs_hidden": false,
     "source_hidden": false
    },
    "lastExecutedAt": 1705770526358,
    "lastScheduledRunId": null,
    "lastSuccessfullyExecutedCode": "# Create range for neighbors\nneighbors = np.arange(1, 13)\n\ntrain_accuracy = {}\ntest_accuracy = {}\n\nfor neighbor in neighbors:\n  \n\t# Set up a KNN Classifier\n\tknn = KNeighborsClassifier(n_neighbors=neighbor)\n  \n\t# Fit the model\n\tknn.fit(X_train, y_train)\n  \n\t# Compute accuracy\n\ttrain_accuracy[neighbor] = knn.score(X_train, y_train)\n\ttest_accuracy[neighbor] = knn.score(X_test, y_test)\n\n# Add a title\nplt.title(\"KNN: Varying Number of Neighbors\")\n\n# Plot training accuracies\nplt.plot(neighbors,train_accuracy.values(), label=\"Training Accuracy\")\n\n# Plot test accuracies\nplt.plot(neighbors, test_accuracy.values(), label=\"Testing Accuracy\")\n\nplt.legend()\nplt.xlabel(\"Number of Neighbors\")\nplt.ylabel(\"Accuracy\")\n\n# Display the plot\nplt.show()"
   },
   "outputs": [
    {
     "name": "stderr",
     "output_type": "stream",
     "text": [
      "/opt/anaconda3/lib/python3.9/site-packages/sklearn/neighbors/_classification.py:228: FutureWarning: Unlike other reduction functions (e.g. `skew`, `kurtosis`), the default behavior of `mode` typically preserves the axis it acts along. In SciPy 1.11.0, this behavior will change: the default value of `keepdims` will become False, the `axis` over which the statistic is taken will be eliminated, and the value None will no longer be accepted. Set `keepdims` to True or False to avoid this warning.\n",
      "  mode, _ = stats.mode(_y[neigh_ind, k], axis=1)\n",
      "/opt/anaconda3/lib/python3.9/site-packages/sklearn/neighbors/_classification.py:228: FutureWarning: Unlike other reduction functions (e.g. `skew`, `kurtosis`), the default behavior of `mode` typically preserves the axis it acts along. In SciPy 1.11.0, this behavior will change: the default value of `keepdims` will become False, the `axis` over which the statistic is taken will be eliminated, and the value None will no longer be accepted. Set `keepdims` to True or False to avoid this warning.\n",
      "  mode, _ = stats.mode(_y[neigh_ind, k], axis=1)\n",
      "/opt/anaconda3/lib/python3.9/site-packages/sklearn/neighbors/_classification.py:228: FutureWarning: Unlike other reduction functions (e.g. `skew`, `kurtosis`), the default behavior of `mode` typically preserves the axis it acts along. In SciPy 1.11.0, this behavior will change: the default value of `keepdims` will become False, the `axis` over which the statistic is taken will be eliminated, and the value None will no longer be accepted. Set `keepdims` to True or False to avoid this warning.\n",
      "  mode, _ = stats.mode(_y[neigh_ind, k], axis=1)\n",
      "/opt/anaconda3/lib/python3.9/site-packages/sklearn/neighbors/_classification.py:228: FutureWarning: Unlike other reduction functions (e.g. `skew`, `kurtosis`), the default behavior of `mode` typically preserves the axis it acts along. In SciPy 1.11.0, this behavior will change: the default value of `keepdims` will become False, the `axis` over which the statistic is taken will be eliminated, and the value None will no longer be accepted. Set `keepdims` to True or False to avoid this warning.\n",
      "  mode, _ = stats.mode(_y[neigh_ind, k], axis=1)\n",
      "/opt/anaconda3/lib/python3.9/site-packages/sklearn/neighbors/_classification.py:228: FutureWarning: Unlike other reduction functions (e.g. `skew`, `kurtosis`), the default behavior of `mode` typically preserves the axis it acts along. In SciPy 1.11.0, this behavior will change: the default value of `keepdims` will become False, the `axis` over which the statistic is taken will be eliminated, and the value None will no longer be accepted. Set `keepdims` to True or False to avoid this warning.\n",
      "  mode, _ = stats.mode(_y[neigh_ind, k], axis=1)\n",
      "/opt/anaconda3/lib/python3.9/site-packages/sklearn/neighbors/_classification.py:228: FutureWarning: Unlike other reduction functions (e.g. `skew`, `kurtosis`), the default behavior of `mode` typically preserves the axis it acts along. In SciPy 1.11.0, this behavior will change: the default value of `keepdims` will become False, the `axis` over which the statistic is taken will be eliminated, and the value None will no longer be accepted. Set `keepdims` to True or False to avoid this warning.\n",
      "  mode, _ = stats.mode(_y[neigh_ind, k], axis=1)\n",
      "/opt/anaconda3/lib/python3.9/site-packages/sklearn/neighbors/_classification.py:228: FutureWarning: Unlike other reduction functions (e.g. `skew`, `kurtosis`), the default behavior of `mode` typically preserves the axis it acts along. In SciPy 1.11.0, this behavior will change: the default value of `keepdims` will become False, the `axis` over which the statistic is taken will be eliminated, and the value None will no longer be accepted. Set `keepdims` to True or False to avoid this warning.\n",
      "  mode, _ = stats.mode(_y[neigh_ind, k], axis=1)\n",
      "/opt/anaconda3/lib/python3.9/site-packages/sklearn/neighbors/_classification.py:228: FutureWarning: Unlike other reduction functions (e.g. `skew`, `kurtosis`), the default behavior of `mode` typically preserves the axis it acts along. In SciPy 1.11.0, this behavior will change: the default value of `keepdims` will become False, the `axis` over which the statistic is taken will be eliminated, and the value None will no longer be accepted. Set `keepdims` to True or False to avoid this warning.\n",
      "  mode, _ = stats.mode(_y[neigh_ind, k], axis=1)\n",
      "/opt/anaconda3/lib/python3.9/site-packages/sklearn/neighbors/_classification.py:228: FutureWarning: Unlike other reduction functions (e.g. `skew`, `kurtosis`), the default behavior of `mode` typically preserves the axis it acts along. In SciPy 1.11.0, this behavior will change: the default value of `keepdims` will become False, the `axis` over which the statistic is taken will be eliminated, and the value None will no longer be accepted. Set `keepdims` to True or False to avoid this warning.\n",
      "  mode, _ = stats.mode(_y[neigh_ind, k], axis=1)\n",
      "/opt/anaconda3/lib/python3.9/site-packages/sklearn/neighbors/_classification.py:228: FutureWarning: Unlike other reduction functions (e.g. `skew`, `kurtosis`), the default behavior of `mode` typically preserves the axis it acts along. In SciPy 1.11.0, this behavior will change: the default value of `keepdims` will become False, the `axis` over which the statistic is taken will be eliminated, and the value None will no longer be accepted. Set `keepdims` to True or False to avoid this warning.\n",
      "  mode, _ = stats.mode(_y[neigh_ind, k], axis=1)\n",
      "/opt/anaconda3/lib/python3.9/site-packages/sklearn/neighbors/_classification.py:228: FutureWarning: Unlike other reduction functions (e.g. `skew`, `kurtosis`), the default behavior of `mode` typically preserves the axis it acts along. In SciPy 1.11.0, this behavior will change: the default value of `keepdims` will become False, the `axis` over which the statistic is taken will be eliminated, and the value None will no longer be accepted. Set `keepdims` to True or False to avoid this warning.\n",
      "  mode, _ = stats.mode(_y[neigh_ind, k], axis=1)\n",
      "/opt/anaconda3/lib/python3.9/site-packages/sklearn/neighbors/_classification.py:228: FutureWarning: Unlike other reduction functions (e.g. `skew`, `kurtosis`), the default behavior of `mode` typically preserves the axis it acts along. In SciPy 1.11.0, this behavior will change: the default value of `keepdims` will become False, the `axis` over which the statistic is taken will be eliminated, and the value None will no longer be accepted. Set `keepdims` to True or False to avoid this warning.\n",
      "  mode, _ = stats.mode(_y[neigh_ind, k], axis=1)\n",
      "/opt/anaconda3/lib/python3.9/site-packages/sklearn/neighbors/_classification.py:228: FutureWarning: Unlike other reduction functions (e.g. `skew`, `kurtosis`), the default behavior of `mode` typically preserves the axis it acts along. In SciPy 1.11.0, this behavior will change: the default value of `keepdims` will become False, the `axis` over which the statistic is taken will be eliminated, and the value None will no longer be accepted. Set `keepdims` to True or False to avoid this warning.\n",
      "  mode, _ = stats.mode(_y[neigh_ind, k], axis=1)\n",
      "/opt/anaconda3/lib/python3.9/site-packages/sklearn/neighbors/_classification.py:228: FutureWarning: Unlike other reduction functions (e.g. `skew`, `kurtosis`), the default behavior of `mode` typically preserves the axis it acts along. In SciPy 1.11.0, this behavior will change: the default value of `keepdims` will become False, the `axis` over which the statistic is taken will be eliminated, and the value None will no longer be accepted. Set `keepdims` to True or False to avoid this warning.\n",
      "  mode, _ = stats.mode(_y[neigh_ind, k], axis=1)\n",
      "/opt/anaconda3/lib/python3.9/site-packages/sklearn/neighbors/_classification.py:228: FutureWarning: Unlike other reduction functions (e.g. `skew`, `kurtosis`), the default behavior of `mode` typically preserves the axis it acts along. In SciPy 1.11.0, this behavior will change: the default value of `keepdims` will become False, the `axis` over which the statistic is taken will be eliminated, and the value None will no longer be accepted. Set `keepdims` to True or False to avoid this warning.\n",
      "  mode, _ = stats.mode(_y[neigh_ind, k], axis=1)\n",
      "/opt/anaconda3/lib/python3.9/site-packages/sklearn/neighbors/_classification.py:228: FutureWarning: Unlike other reduction functions (e.g. `skew`, `kurtosis`), the default behavior of `mode` typically preserves the axis it acts along. In SciPy 1.11.0, this behavior will change: the default value of `keepdims` will become False, the `axis` over which the statistic is taken will be eliminated, and the value None will no longer be accepted. Set `keepdims` to True or False to avoid this warning.\n",
      "  mode, _ = stats.mode(_y[neigh_ind, k], axis=1)\n",
      "/opt/anaconda3/lib/python3.9/site-packages/sklearn/neighbors/_classification.py:228: FutureWarning: Unlike other reduction functions (e.g. `skew`, `kurtosis`), the default behavior of `mode` typically preserves the axis it acts along. In SciPy 1.11.0, this behavior will change: the default value of `keepdims` will become False, the `axis` over which the statistic is taken will be eliminated, and the value None will no longer be accepted. Set `keepdims` to True or False to avoid this warning.\n",
      "  mode, _ = stats.mode(_y[neigh_ind, k], axis=1)\n",
      "/opt/anaconda3/lib/python3.9/site-packages/sklearn/neighbors/_classification.py:228: FutureWarning: Unlike other reduction functions (e.g. `skew`, `kurtosis`), the default behavior of `mode` typically preserves the axis it acts along. In SciPy 1.11.0, this behavior will change: the default value of `keepdims` will become False, the `axis` over which the statistic is taken will be eliminated, and the value None will no longer be accepted. Set `keepdims` to True or False to avoid this warning.\n",
      "  mode, _ = stats.mode(_y[neigh_ind, k], axis=1)\n",
      "/opt/anaconda3/lib/python3.9/site-packages/sklearn/neighbors/_classification.py:228: FutureWarning: Unlike other reduction functions (e.g. `skew`, `kurtosis`), the default behavior of `mode` typically preserves the axis it acts along. In SciPy 1.11.0, this behavior will change: the default value of `keepdims` will become False, the `axis` over which the statistic is taken will be eliminated, and the value None will no longer be accepted. Set `keepdims` to True or False to avoid this warning.\n",
      "  mode, _ = stats.mode(_y[neigh_ind, k], axis=1)\n",
      "/opt/anaconda3/lib/python3.9/site-packages/sklearn/neighbors/_classification.py:228: FutureWarning: Unlike other reduction functions (e.g. `skew`, `kurtosis`), the default behavior of `mode` typically preserves the axis it acts along. In SciPy 1.11.0, this behavior will change: the default value of `keepdims` will become False, the `axis` over which the statistic is taken will be eliminated, and the value None will no longer be accepted. Set `keepdims` to True or False to avoid this warning.\n",
      "  mode, _ = stats.mode(_y[neigh_ind, k], axis=1)\n",
      "/opt/anaconda3/lib/python3.9/site-packages/sklearn/neighbors/_classification.py:228: FutureWarning: Unlike other reduction functions (e.g. `skew`, `kurtosis`), the default behavior of `mode` typically preserves the axis it acts along. In SciPy 1.11.0, this behavior will change: the default value of `keepdims` will become False, the `axis` over which the statistic is taken will be eliminated, and the value None will no longer be accepted. Set `keepdims` to True or False to avoid this warning.\n",
      "  mode, _ = stats.mode(_y[neigh_ind, k], axis=1)\n",
      "/opt/anaconda3/lib/python3.9/site-packages/sklearn/neighbors/_classification.py:228: FutureWarning: Unlike other reduction functions (e.g. `skew`, `kurtosis`), the default behavior of `mode` typically preserves the axis it acts along. In SciPy 1.11.0, this behavior will change: the default value of `keepdims` will become False, the `axis` over which the statistic is taken will be eliminated, and the value None will no longer be accepted. Set `keepdims` to True or False to avoid this warning.\n",
      "  mode, _ = stats.mode(_y[neigh_ind, k], axis=1)\n",
      "/opt/anaconda3/lib/python3.9/site-packages/sklearn/neighbors/_classification.py:228: FutureWarning: Unlike other reduction functions (e.g. `skew`, `kurtosis`), the default behavior of `mode` typically preserves the axis it acts along. In SciPy 1.11.0, this behavior will change: the default value of `keepdims` will become False, the `axis` over which the statistic is taken will be eliminated, and the value None will no longer be accepted. Set `keepdims` to True or False to avoid this warning.\n",
      "  mode, _ = stats.mode(_y[neigh_ind, k], axis=1)\n",
      "/opt/anaconda3/lib/python3.9/site-packages/sklearn/neighbors/_classification.py:228: FutureWarning: Unlike other reduction functions (e.g. `skew`, `kurtosis`), the default behavior of `mode` typically preserves the axis it acts along. In SciPy 1.11.0, this behavior will change: the default value of `keepdims` will become False, the `axis` over which the statistic is taken will be eliminated, and the value None will no longer be accepted. Set `keepdims` to True or False to avoid this warning.\n",
      "  mode, _ = stats.mode(_y[neigh_ind, k], axis=1)\n"
     ]
    },
    {
     "data": {
      "image/png": "[encoded data removed]",
      "text/plain": [
       "<Figure size 640x480 with 1 Axes>"
      ]
     },
     "metadata": {},
     "output_type": "display_data"
    }
   ],
   "source": [
    "# Create range for neighbors\n",
    "neighbors = np.arange(1, 13)\n",
    "\n",
    "train_accuracy = {}\n",
    "test_accuracy = {}\n",
    "\n",
    "for neighbor in neighbors:\n",
    "  \n",
    "\t# Set up a KNN Classifier\n",
    "\tknn = KNeighborsClassifier(n_neighbors=neighbor)\n",
    "  \n",
    "\t# Fit the model\n",
    "\tknn.fit(X_train, y_train)\n",
    "  \n",
    "\t# Compute accuracy\n",
    "\ttrain_accuracy[neighbor] = knn.score(X_train, y_train)\n",
    "\ttest_accuracy[neighbor] = knn.score(X_test, y_test)\n",
    "\n",
    "# Add a title\n",
    "plt.title(\"KNN: Varying Number of Neighbors\")\n",
    "\n",
    "# Plot training accuracies\n",
    "plt.plot(neighbors,train_accuracy.values(), label=\"Training Accuracy\")\n",
    "\n",
    "# Plot test accuracies\n",
    "plt.plot(neighbors, test_accuracy.values(), label=\"Testing Accuracy\")\n",
    "\n",
    "plt.legend()\n",
    "plt.xlabel(\"Number of Neighbors\")\n",
    "plt.ylabel(\"Accuracy\")\n",
    "\n",
    "# Display the plot\n",
    "plt.show()"
   ]
  },
  {
   "cell_type": "markdown",
   "id": "fe5d8265-a589-41dc-accc-22b59e29c2a9",
   "metadata": {
    "jupyter": {
     "outputs_hidden": false,
     "source_hidden": false
    }
   },
   "source": [
    "# k-fold Cross Validation Approach\n",
    "\n",
    "The k-fold cross validation approach involves randomly dividing the data into k groups of approximately equal size. The first fold is treated as a test set, and the model is fit on the remaining k − 1 folds. The mean squared error is then computed on the observations in the held-out fold. This procedure is repeated k times; each time, a different group of observations is treated as a validation set. This process results in k estimates of the test error which can be averaged to the CV estimate.\n",
    "\n",
    "## Applying k-fold cross validation approach on telecomunication churn\n",
    "\n",
    "Next, I apply a k-fold cross validation approach using 10 folds on telecominication churn. The KFold instance is used to define the folding parameters. The cross_val_score instance is used to compute model score which is accuracy in the case of kNN."
   ]
  },
  {
   "cell_type": "code",
   "execution_count": 28,
   "id": "b80c8f75-4c8b-40cf-883f-75b10fde54fd",
   "metadata": {
    "collapsed": false,
    "executionCancelledAt": null,
    "executionTime": 99,
    "jupyter": {
     "outputs_hidden": false,
     "source_hidden": false
    },
    "lastExecutedAt": 1705770531728,
    "lastScheduledRunId": null,
    "lastSuccessfullyExecutedCode": "# Loading KFold class from model_selection module\nfrom sklearn.model_selection import KFold, cross_val_score\n\n# Defining kfolds for cross-validation\nkf = KFold(n_splits=10, random_state=42, shuffle=True)\n\n# Computing CV scores\ncv_scores = cross_val_score(knn, X, y, cv=kf)\n\n# Print cv scores \nprint(cv_scores)",
    "outputsMetadata": {
     "0": {
      "height": 57,
      "type": "stream"
     }
    }
   },
   "outputs": [
    {
     "name": "stdout",
     "output_type": "stream",
     "text": [
      "[0.83832335 0.85928144 0.87125749 0.83783784 0.83483483 0.85885886\n",
      " 0.88588589 0.87987988 0.84084084 0.85285285]\n"
     ]
    }
   ],
   "source": [
    "# Loading KFold class from model_selection module\n",
    "from sklearn.model_selection import KFold, cross_val_score\n",
    "\n",
    "# Defining kfolds for cross-validation\n",
    "kf = KFold(n_splits=10, random_state=42, shuffle=True)\n",
    "\n",
    "# Computing CV scores\n",
    "cv_scores = cross_val_score(knn, X, y, cv=kf)\n",
    "\n",
    "# Print cv scores \n",
    "print(cv_scores)"
   ]
  },
  {
   "cell_type": "code",
   "execution_count": 29,
   "id": "8e3774c3-0cc2-454a-9801-fc2c370bcd5c",
   "metadata": {
    "collapsed": false,
    "executionCancelledAt": null,
    "executionTime": 13,
    "jupyter": {
     "outputs_hidden": false,
     "source_hidden": false
    },
    "lastExecutedAt": 1705770534817,
    "lastScheduledRunId": null,
    "lastSuccessfullyExecutedCode": "# Evaluating k-fold\nprint(\"Lowest accuracy: {}\".format(cv_scores.min()))\nprint(\"Highest accuracy: {}\".format(cv_scores.max()))\nprint(\"Mean Accuracy: {}\".format(cv_scores.mean()))",
    "outputsMetadata": {
     "0": {
      "height": 77,
      "type": "stream"
     }
    }
   },
   "outputs": [
    {
     "name": "stdout",
     "output_type": "stream",
     "text": [
      "Lowest accuracy: 0.8348348348348348\n",
      "Highest accuracy: 0.8858858858858859\n",
      "Mean Accuracy: 0.8559853266440094\n"
     ]
    }
   ],
   "source": [
    "# Evaluating k-fold\n",
    "print(\"Lowest accuracy: {}\".format(cv_scores.min()))\n",
    "print(\"Highest accuracy: {}\".format(cv_scores.max()))\n",
    "print(\"Mean Accuracy: {}\".format(cv_scores.mean()))"
   ]
  },
  {
   "cell_type": "markdown",
   "id": "5bdd18b9-6da4-4304-b66d-a28920a09010",
   "metadata": {},
   "source": [
    "# Model fine tuning\n",
    "\n",
    "## Confusion Matrix\n",
    "\n",
    "A confusuion matrix is an array for true/false positives and negatives. It is used to compute several model scores which have different intentions when it comes to evaluating a models performance.\n",
    "\n",
    "## Model metrics\n",
    "\n",
    "### Accuracy\n",
    "\n",
    "Accuracy can be interpreted as model goodness. It is defined as the ratio of true positives & true negatives to all observations.\n",
    "\n",
    "### Preision\n",
    "\n",
    "Precision is the ratio of true positives to true & false positives. A higher precision implies a lower false positive rate. Or: How many are correctly classified among that class?\n",
    "\n",
    "### Recall\n",
    "Recall is the ratio of true positives to true positives & false negatives. A higher recall implies a lowerr false negative rate. Or:  How many of this class you find over the whole number of elements of this class?\n",
    "\n",
    "### Support\n",
    "The support is the number of true positives or true negatives in the test data.\n",
    "\n",
    "### f1-ccore\n",
    "Weighted harmonic mean of precision and recall. The higher the precision and the higher the recall, the better is the f1-score."
   ]
  },
  {
   "cell_type": "code",
   "execution_count": 30,
   "id": "b34f891f-57ea-40e7-8067-ae791b3276d6",
   "metadata": {
    "collapsed": false,
    "executionCancelledAt": null,
    "executionTime": 21,
    "jupyter": {
     "outputs_hidden": false,
     "source_hidden": false
    },
    "lastExecutedAt": 1705770539469,
    "lastScheduledRunId": null,
    "lastSuccessfullyExecutedCode": "# Defining & training kNN model\nknn = KNeighborsClassifier(n_neighbors=neighbor)\nknn.fit(X_train, y_train)\n\n# Computing predictions for test data\ny_pred = knn.predict(X_test)\n\n# Generate the confusion matrix a\nprint(confusion_matrix(y_test, y_pred))",
    "outputsMetadata": {
     "0": {
      "height": 57,
      "type": "stream"
     }
    }
   },
   "outputs": [
    {
     "name": "stdout",
     "output_type": "stream",
     "text": [
      "[[285   1]\n",
      " [ 47   1]]\n"
     ]
    }
   ],
   "source": [
    "# Defining & training kNN model\n",
    "knn = KNeighborsClassifier(n_neighbors=neighbor)\n",
    "knn.fit(X_train, y_train)\n",
    "\n",
    "# Computing predictions for test data\n",
    "y_pred = knn.predict(X_test)\n",
    "\n",
    "# Generate the confusion matrix a\n",
    "print(confusion_matrix(y_test, y_pred))"
   ]
  },
  {
   "cell_type": "code",
   "execution_count": 31,
   "id": "ce692315-0f0a-4252-89f3-53dc3e25bb21",
   "metadata": {
    "executionCancelledAt": null,
    "executionTime": 15,
    "lastExecutedAt": 1705770543180,
    "lastScheduledRunId": null,
    "lastSuccessfullyExecutedCode": "from sklearn.metrics import classification_report\n# Generate the classification report\nprint(classification_report(y_test, y_pred, target_names = [\"Churned\", \"Not churned\"]))",
    "outputsMetadata": {
     "0": {
      "height": 197,
      "type": "stream"
     }
    }
   },
   "outputs": [
    {
     "name": "stdout",
     "output_type": "stream",
     "text": [
      "              precision    recall  f1-score   support\n",
      "\n",
      "     Churned       0.86      1.00      0.92       286\n",
      " Not churned       0.50      0.02      0.04        48\n",
      "\n",
      "    accuracy                           0.86       334\n",
      "   macro avg       0.68      0.51      0.48       334\n",
      "weighted avg       0.81      0.86      0.80       334\n",
      "\n"
     ]
    }
   ],
   "source": [
    "from sklearn.metrics import classification_report\n",
    "# Generate the classification report\n",
    "print(classification_report(y_test, y_pred, target_names = [\"Churned\", \"Not churned\"]))"
   ]
  },
  {
   "cell_type": "markdown",
   "id": "2026b64c-9daf-45ec-b65b-2e19408e0de2",
   "metadata": {},
   "source": [
    "## Fusion matrix for telecomunication churn\n",
    "\n",
    "- 41 observations are true positive, i.e. predicted as churned and have cancelled their contract\n",
    "- 9 observations are false positive, i.e. predicted as churned but have not cancelled their contract\n",
    "- 13 observations are true negative, i.e. predicted as not churned and have indeed not cancelled their contract\n",
    "- 14 observations are false negative, i.e. predicted as not chunred but have cancelled their contract\n",
    "\n",
    "## Model metrics for telecomunication churn\n",
    "\n",
    "### Accuracy\n",
    "\n",
    "In this case, model accuracy can be interpreted as the share of correct predictions (true churns, true non-churns) with respect to overall size of the test dataset.\n",
    "\n",
    "### Precision\n",
    "\n",
    "Precision is the number of correctly predicted churns relative to the number of predicted churns for the group of true churns in the test data (subsample where churn = 1). Converserly, the second number is the share of correctly predicted non-churns realtive to the overall number of predicted non-churns (subsample where churn = 0).\n",
    "\n",
    "### Recall\n",
    "\n",
    "Recall is the share of correctly predicted churns to the total number of true churns in the test data. Converserly, the seocnd number is the share of correctly predicted non-churns relative to number of non-churns in the test data.\n",
    "\n",
    "### f1-Score\n",
    "\n",
    "The f1-Score ist the weighted average of precision and recall and  "
   ]
  },
  {
   "cell_type": "markdown",
   "id": "0e7949e8",
   "metadata": {},
   "source": [
    "# Fine tuning a model"
   ]
  },
  {
   "cell_type": "markdown",
   "id": "18dd2afa",
   "metadata": {},
   "source": [
    "The goal is to predict whether or not each individual is likely to have diabetes based on the features body mass index (BMI) and age (in years). Therefore, it is a binary classification problem. A target value of 0 indicates that the individual does not have diabetes, while a value of 1 indicates that the individual does have diabetes.\n",
    "\n",
    "Fit the model, make predictions on the test set, then produce a confusion matrix and classification report."
   ]
  },
  {
   "cell_type": "code",
   "execution_count": 69,
   "id": "079c7628-464c-471b-9867-b684acc232b9",
   "metadata": {
    "collapsed": false,
    "executionCancelledAt": null,
    "executionTime": 55,
    "jupyter": {
     "outputs_hidden": false,
     "source_hidden": false
    },
    "lastExecutedAt": 1705756190633,
    "lastScheduledRunId": null,
    "lastSuccessfullyExecutedCode": "# Generate variable to be predicted and matrix with explanatory variables\nX = diabetes_df.drop(\"diabetes\", axis = 1).values\ny = diabetes_df[\"diabetes\"].values\n\n# Split dataset into train and test\nX_train, X_test, y_train, y_test = train_test_split(X, y, test_size = 0.2, random_state = 42)\n\n# Initialize kNN model\nknn = KNeighborsClassifier(n_neighbors=6)\n\n# Fit model\nknn.fit(X_train, y_train)\n        \n# Predict y for test data\ny_pred = knn.predict(X_test)",
    "outputsMetadata": {
     "0": {
      "height": 237,
      "type": "stream"
     }
    }
   },
   "outputs": [],
   "source": [
    "# Generate variable to be predicted and matrix with explanatory variables\n",
    "X = diabetes_df.drop(\"diabetes\", axis = 1).values\n",
    "y = diabetes_df[\"diabetes\"].values\n",
    "\n",
    "# Split dataset into train and test\n",
    "X_train, X_test, y_train, y_test = train_test_split(X, y, test_size = 0.2, random_state = 42)\n",
    "\n",
    "# Initialize kNN model\n",
    "knn = KNeighborsClassifier(n_neighbors=6)\n",
    "\n",
    "# Fit model\n",
    "knn.fit(X_train, y_train)\n",
    "        \n",
    "# Predict y for test data\n",
    "y_pred = knn.predict(X_test)"
   ]
  },
  {
   "cell_type": "code",
   "execution_count": 70,
   "id": "470b69b8-ac83-4434-8696-504fb3db6ac7",
   "metadata": {
    "executionCancelledAt": null,
    "executionTime": 48,
    "lastExecutedAt": 1705756190682,
    "lastScheduledRunId": null,
    "lastSuccessfullyExecutedCode": "# Generate the confusion matrix a\nprint(confusion_matrix(y_test, y_pred))",
    "outputsMetadata": {
     "0": {
      "height": 57,
      "type": "stream"
     }
    }
   },
   "outputs": [
    {
     "name": "stdout",
     "output_type": "stream",
     "text": [
      "[[81 18]\n",
      " [24 31]]\n"
     ]
    }
   ],
   "source": [
    "# Generate the confusion matrix a\n",
    "print(confusion_matrix(y_test, y_pred))"
   ]
  },
  {
   "cell_type": "markdown",
   "id": "60e8b574-bb7d-465b-83f1-45f3cd016cb5",
   "metadata": {},
   "source": [
    "# Confusuion Matrix\n",
    "\n",
    "The confusuion matrix consists of an array for true/false positives and negatives. In the above case, \n",
    "- 81 obs are true negatives (have no diabtetes and are predicted being healthy)\n",
    "- 24 obs are false negatives (have diabetes but are predicted being healthy)\n",
    "- 18 obs are false positives (have no diabetes but are pedicted having diabetes)\n",
    "- 31 obs are true positives (have diabetes and are predicted having daibetes)"
   ]
  },
  {
   "cell_type": "code",
   "execution_count": 71,
   "id": "4780d4ed-d5b3-4995-ab47-ae79a09e2553",
   "metadata": {
    "executionCancelledAt": null,
    "executionTime": 56,
    "lastExecutedAt": 1705756190738,
    "lastScheduledRunId": null,
    "lastSuccessfullyExecutedCode": "# Generate the classification report\nprint(classification_report(y_test, y_pred, target_names = [\"No diabetes\", \"Diabetes\"]))",
    "outputsMetadata": {
     "0": {
      "height": 197,
      "type": "stream"
     }
    }
   },
   "outputs": [
    {
     "name": "stdout",
     "output_type": "stream",
     "text": [
      "              precision    recall  f1-score   support\n",
      "\n",
      " No diabetes       0.77      0.82      0.79        99\n",
      "    Diabetes       0.63      0.56      0.60        55\n",
      "\n",
      "    accuracy                           0.73       154\n",
      "   macro avg       0.70      0.69      0.70       154\n",
      "weighted avg       0.72      0.73      0.72       154\n",
      "\n"
     ]
    }
   ],
   "source": [
    "# Generate the classification report\n",
    "print(classification_report(y_test, y_pred, target_names = [\"No diabetes\", \"Diabetes\"]))"
   ]
  },
  {
   "cell_type": "markdown",
   "id": "b108b20f-b715-4728-8d99-a8189fc1c93d",
   "metadata": {},
   "source": [
    "# Interpretation"
   ]
  },
  {
   "cell_type": "markdown",
   "id": "c3ae85b4-4601-4099-9f33-ef2cd03e2e5e",
   "metadata": {},
   "source": [
    "## Preision\n",
    "\n",
    "- Precision is the ratio of true positives to true & false positives\n",
    "- A higher precision implies a lower false positive rate\n",
    "- In case of the above diabetes example, true positive means that a person is predicted having diabetes and this is true in reality. This is the case for 31 out of 49 (true & false positives) cases. Thus, precision iist 0.77 (31/49)\n",
    "\n",
    "## Recall\n",
    "- Recall is the ratio of true positives to true positives & false negatives\n",
    "- A higher recall implies a lowerr false negative rate\n",
    "- In case of the above diabetes example, a higher recall implies that less persones with diabetes are wrongly diagnosed having not diabetes. The recall equals 31 to 55, i.e. 0.56. This means that out of all persons, who in reality have diabetes, only 56 percent are diagnosed correctly.\n",
    "\n",
    "## Support\n",
    "- The support is the number of true positives or true negatives in the test data. In the above case, 99 persons are healthy and 55 persons have diabetes.\n",
    "\n",
    "## f1-ccore\n",
    "- Wighted harmonic mean of precision and recall\n",
    "- The higher the precision and the higher the recall, the better is the f1-score\n",
    "\n",
    "## Accuracy\n",
    "\n",
    "- Accuracy can be interpreted as model goodness (true positives & true negatives relative to all)\n",
    "- In the above example, accuracy equals 112/155 = 0.73."
   ]
  },
  {
   "cell_type": "markdown",
   "id": "8a01dfa6-53f9-4644-b532-9dedd6d9be28",
   "metadata": {},
   "source": [
    "# Logistic Regression and the ROC curve"
   ]
  },
  {
   "cell_type": "markdown",
   "id": "aeacabca-61f3-40f9-966a-d4dec6860367",
   "metadata": {},
   "source": [
    "## Fitting Logistic Regressions with scikit learn"
   ]
  },
  {
   "cell_type": "markdown",
   "id": "07169094-12aa-43f6-a1d9-60242c442318",
   "metadata": {},
   "source": [
    "In this use case, the probability of having diabetes is predicted by training a logistic regression model. The threshold for predicting someone having diabetes is set by 0.5 by defaukt in scikit learn."
   ]
  },
  {
   "cell_type": "code",
   "execution_count": 72,
   "id": "e70f8ac8-d397-441d-8eba-0efb213355ae",
   "metadata": {
    "executionCancelledAt": null,
    "executionTime": 52,
    "lastExecutedAt": 1705756190790,
    "lastScheduledRunId": null,
    "lastSuccessfullyExecutedCode": "# Import LogisticRegression\nfrom sklearn.linear_model import LogisticRegression\n\n# Instantiate the model\nlogreg = LogisticRegression()\n\n# Fit the model\nlogreg.fit(X_train, y_train)\n\n# Predict values\ny_pred_values = logreg.predict(X_test)\n\n# Predict probabilities\ny_pred_probs = logreg.predict_proba(X_test)[:,1]\n\nprint(y_pred_probs[:10])\nprint(y_pred_values[:10])",
    "outputsMetadata": {
     "0": {
      "height": 77,
      "type": "stream"
     }
    }
   },
   "outputs": [
    {
     "name": "stdout",
     "output_type": "stream",
     "text": [
      "[0.27550928 0.1948644  0.1166111  0.16451717 0.46144283 0.43296294\n",
      " 0.01624534 0.64877747 0.54182916 0.76164325]\n",
      "[0 0 0 0 0 0 0 1 1 1]\n"
     ]
    }
   ],
   "source": [
    "# Import LogisticRegression\n",
    "from sklearn.linear_model import LogisticRegression\n",
    "\n",
    "# Instantiate the model\n",
    "logreg = LogisticRegression()\n",
    "\n",
    "# Fit the model\n",
    "logreg.fit(X_train, y_train)\n",
    "\n",
    "# Predict values\n",
    "y_pred_values = logreg.predict(X_test)\n",
    "\n",
    "# Predict probabilities\n",
    "y_pred_probs = logreg.predict_proba(X_test)[:,1]\n",
    "\n",
    "print(y_pred_probs[:10])\n",
    "print(y_pred_values[:10])"
   ]
  },
  {
   "cell_type": "markdown",
   "id": "cea8bca0-02a9-4e9d-9b84-bb695d08c791",
   "metadata": {},
   "source": [
    "## Computing and visualizing the ROC curve"
   ]
  },
  {
   "cell_type": "markdown",
   "id": "7bcb73f8-e0b5-45a4-888e-feda2a756a2c",
   "metadata": {},
   "source": [
    "The ROC (receiver operating characteristic) curve shows the true positve rate on the y-axis and the false positive rate on the x-axis. The diagonal visualizies the axis, when the variable are indistinguishable by the features, i.e. the chance model which randomly guesses labels.\n",
    "\n",
    "If p = 0 (upper right corner) the model predics all values as positive (1), i.e. all positives are correctly predicted (true positive) but the false positive rate is also at its maximum because the model predicts also all negatives wrongly as positive.\n",
    "\n",
    "More precisely, since each probability is predicted > 0, all observations are predicted as beeing positive (1), in the case of diabetes, all observations are predicted having diabetes.\n",
    "\n",
    "If the threshold equals 1, then all observations are predicted negative (0), i.e. all positives are wrongly predicted as negative (false negative) and all negatives are predicted correctly as negative (0)."
   ]
  },
  {
   "cell_type": "code",
   "execution_count": 73,
   "id": "10d26e3c-0b22-4de9-b38b-727f893fa625",
   "metadata": {
    "executionCancelledAt": null,
    "executionTime": 157,
    "lastExecutedAt": 1705756190947,
    "lastScheduledRunId": null,
    "lastSuccessfullyExecutedCode": "# Generate ROC curve values: fpr, tpr, thresholds\nfpr, tpr, thresholds = roc_curve(y_test, y_pred_probs)\n\nplt.plot([0, 1], [0, 1], 'k--')\n\n# Plot tpr against fpr\nplt.plot(fpr, tpr)\nplt.xlabel('False Positive Rate')\nplt.ylabel('True Positive Rate')\nplt.title('ROC Curve for Diabetes Prediction')\nplt.show()"
   },
   "outputs": [
    {
     "data": {
      "image/png": "[encoded data removed]",
      "text/plain": [
       "<Figure size 640x480 with 1 Axes>"
      ]
     },
     "metadata": {},
     "output_type": "display_data"
    }
   ],
   "source": [
    "# Generate ROC curve values: fpr, tpr, thresholds\n",
    "fpr, tpr, thresholds = roc_curve(y_test, y_pred_probs)\n",
    "\n",
    "plt.plot([0, 1], [0, 1], 'k--')\n",
    "\n",
    "# Plot tpr against fpr\n",
    "plt.plot(fpr, tpr)\n",
    "plt.xlabel('False Positive Rate')\n",
    "plt.ylabel('True Positive Rate')\n",
    "plt.title('ROC Curve for Diabetes Prediction')\n",
    "plt.show()"
   ]
  },
  {
   "cell_type": "markdown",
   "id": "623bf4a4-8a13-4929-aafb-050829af7764",
   "metadata": {},
   "source": [
    "# ROC AUC\n",
    "\n",
    "The ROC AUC is the area under the ROC curve"
   ]
  },
  {
   "cell_type": "code",
   "execution_count": 74,
   "id": "daa5df55-127f-4219-81e4-08a5ed200d9d",
   "metadata": {
    "executionCancelledAt": null,
    "executionTime": null,
    "lastExecutedAt": null,
    "lastScheduledRunId": null,
    "lastSuccessfullyExecutedCode": null,
    "outputsMetadata": {
     "0": {
      "height": 257,
      "type": "stream"
     }
    }
   },
   "outputs": [
    {
     "name": "stdout",
     "output_type": "stream",
     "text": [
      "0.8150596877869605\n",
      "[[81 18]\n",
      " [24 31]]\n",
      "              precision    recall  f1-score   support\n",
      "\n",
      "           0       0.77      0.82      0.79        99\n",
      "           1       0.63      0.56      0.60        55\n",
      "\n",
      "    accuracy                           0.73       154\n",
      "   macro avg       0.70      0.69      0.70       154\n",
      "weighted avg       0.72      0.73      0.72       154\n",
      "\n"
     ]
    }
   ],
   "source": [
    "# Calculate roc_auc_score\n",
    "print(roc_auc_score(y_test, y_pred_probs))\n",
    "\n",
    "# Calculate the confusion matrix\n",
    "print(confusion_matrix(y_test, y_pred))\n",
    "\n",
    "# Calculate the classification report\n",
    "print(classification_report(y_test, y_pred))"
   ]
  },
  {
   "cell_type": "markdown",
   "id": "55a55366-d725-4e8f-b57c-e60fbcfeace6",
   "metadata": {},
   "source": [
    "# Hyperparameter tuning"
   ]
  },
  {
   "cell_type": "markdown",
   "id": "f7658033-0e5b-4903-977d-844ae1ab376b",
   "metadata": {},
   "source": [
    "# GridSearchCV"
   ]
  },
  {
   "cell_type": "markdown",
   "id": "c161bf1f-579b-4fea-9900-1e3567e751f1",
   "metadata": {},
   "source": [
    "GridsearchCV trains the models for each hyperparameter along the pre-defined grid and is therefore computationally intensive. In scikitlearn, GridSearchCV is implemented in the model_selection module."
   ]
  },
  {
   "cell_type": "code",
   "execution_count": 75,
   "id": "903c8c54-d22a-422a-96e0-94493d208763",
   "metadata": {
    "executionCancelledAt": null,
    "executionTime": 52,
    "lastExecutedAt": 1705756191054,
    "lastScheduledRunId": null,
    "lastSuccessfullyExecutedCode": "# Split diabetes data\n\nX = diabetes_df.drop(\"diabetes\", axis = 1).values\ny = diabetes_df[\"diabetes\"].values\n\nX_train, X_test, y_train, y_test = train_test_split(X, y, test_size = 0.2, random_state = 42)\n\n# Train Lasso regression\nfrom sklearn.linear_model import Lasso\n\nlasso = Lasso()\nlasso.fit(X_train, y_train)"
   },
   "outputs": [
    {
     "data": {
      "text/html": [
       "<style>#sk-container-id-3 {color: black;background-color: white;}#sk-container-id-3 pre{padding: 0;}#sk-container-id-3 div.sk-toggleable {background-color: white;}#sk-container-id-3 label.sk-toggleable__label {cursor: pointer;display: block;width: 100%;margin-bottom: 0;padding: 0.3em;box-sizing: border-box;text-align: center;}#sk-container-id-3 label.sk-toggleable__label-arrow:before {content: \"▸\";float: left;margin-right: 0.25em;color: #696969;}#sk-container-id-3 label.sk-toggleable__label-arrow:hover:before {color: black;}#sk-container-id-3 div.sk-estimator:hover label.sk-toggleable__label-arrow:before {color: black;}#sk-container-id-3 div.sk-toggleable__content {max-height: 0;max-width: 0;overflow: hidden;text-align: left;background-color: #f0f8ff;}#sk-container-id-3 div.sk-toggleable__content pre {margin: 0.2em;color: black;border-radius: 0.25em;background-color: #f0f8ff;}#sk-container-id-3 input.sk-toggleable__control:checked~div.sk-toggleable__content {max-height: 200px;max-width: 100%;overflow: auto;}#sk-container-id-3 input.sk-toggleable__control:checked~label.sk-toggleable__label-arrow:before {content: \"▾\";}#sk-container-id-3 div.sk-estimator input.sk-toggleable__control:checked~label.sk-toggleable__label {background-color: #d4ebff;}#sk-container-id-3 div.sk-label input.sk-toggleable__control:checked~label.sk-toggleable__label {background-color: #d4ebff;}#sk-container-id-3 input.sk-hidden--visually {border: 0;clip: rect(1px 1px 1px 1px);clip: rect(1px, 1px, 1px, 1px);height: 1px;margin: -1px;overflow: hidden;padding: 0;position: absolute;width: 1px;}#sk-container-id-3 div.sk-estimator {font-family: monospace;background-color: #f0f8ff;border: 1px dotted black;border-radius: 0.25em;box-sizing: border-box;margin-bottom: 0.5em;}#sk-container-id-3 div.sk-estimator:hover {background-color: #d4ebff;}#sk-container-id-3 div.sk-parallel-item::after {content: \"\";width: 100%;border-bottom: 1px solid gray;flex-grow: 1;}#sk-container-id-3 div.sk-label:hover label.sk-toggleable__label {background-color: #d4ebff;}#sk-container-id-3 div.sk-serial::before {content: \"\";position: absolute;border-left: 1px solid gray;box-sizing: border-box;top: 0;bottom: 0;left: 50%;z-index: 0;}#sk-container-id-3 div.sk-serial {display: flex;flex-direction: column;align-items: center;background-color: white;padding-right: 0.2em;padding-left: 0.2em;position: relative;}#sk-container-id-3 div.sk-item {position: relative;z-index: 1;}#sk-container-id-3 div.sk-parallel {display: flex;align-items: stretch;justify-content: center;background-color: white;position: relative;}#sk-container-id-3 div.sk-item::before, #sk-container-id-3 div.sk-parallel-item::before {content: \"\";position: absolute;border-left: 1px solid gray;box-sizing: border-box;top: 0;bottom: 0;left: 50%;z-index: -1;}#sk-container-id-3 div.sk-parallel-item {display: flex;flex-direction: column;z-index: 1;position: relative;background-color: white;}#sk-container-id-3 div.sk-parallel-item:first-child::after {align-self: flex-end;width: 50%;}#sk-container-id-3 div.sk-parallel-item:last-child::after {align-self: flex-start;width: 50%;}#sk-container-id-3 div.sk-parallel-item:only-child::after {width: 0;}#sk-container-id-3 div.sk-dashed-wrapped {border: 1px dashed gray;margin: 0 0.4em 0.5em 0.4em;box-sizing: border-box;padding-bottom: 0.4em;background-color: white;}#sk-container-id-3 div.sk-label label {font-family: monospace;font-weight: bold;display: inline-block;line-height: 1.2em;}#sk-container-id-3 div.sk-label-container {text-align: center;}#sk-container-id-3 div.sk-container {/* jupyter's `normalize.less` sets `[hidden] { display: none; }` but bootstrap.min.css set `[hidden] { display: none !important; }` so we also need the `!important` here to be able to override the default hidden behavior on the sphinx rendered scikit-learn.org. See: https://github.com/scikit-learn/scikit-learn/issues/21755 */display: inline-block !important;position: relative;}#sk-container-id-3 div.sk-text-repr-fallback {display: none;}</style><div id=\"sk-container-id-3\" class=\"sk-top-container\"><div class=\"sk-text-repr-fallback\"><pre>Lasso()</pre><b>In a Jupyter environment, please rerun this cell to show the HTML representation or trust the notebook. <br />On GitHub, the HTML representation is unable to render, please try loading this page with nbviewer.org.</b></div><div class=\"sk-container\" hidden><div class=\"sk-item\"><div class=\"sk-estimator sk-toggleable\"><input class=\"sk-toggleable__control sk-hidden--visually\" id=\"sk-estimator-id-3\" type=\"checkbox\" checked><label for=\"sk-estimator-id-3\" class=\"sk-toggleable__label sk-toggleable__label-arrow\">Lasso</label><div class=\"sk-toggleable__content\"><pre>Lasso()</pre></div></div></div></div></div>"
      ],
      "text/plain": [
       "Lasso()"
      ]
     },
     "execution_count": 75,
     "metadata": {},
     "output_type": "execute_result"
    }
   ],
   "source": [
    "# Split diabetes data\n",
    "\n",
    "X = diabetes_df.drop(\"diabetes\", axis = 1).values\n",
    "y = diabetes_df[\"diabetes\"].values\n",
    "\n",
    "X_train, X_test, y_train, y_test = train_test_split(X, y, test_size = 0.2, random_state = 42)\n",
    "\n",
    "# Train Lasso regression\n",
    "from sklearn.linear_model import Lasso\n",
    "\n",
    "lasso = Lasso()\n",
    "lasso.fit(X_train, y_train)"
   ]
  },
  {
   "cell_type": "markdown",
   "id": "5c5c5d1e-6bc3-40b5-a247-8230db4fef6f",
   "metadata": {},
   "source": [
    "The following GridSearch uses the Lasso model and searches for the best model by training and testing a model for 20 different values of alpha between 0.00001 and 20. "
   ]
  },
  {
   "cell_type": "code",
   "execution_count": 76,
   "id": "a147cd7b-483a-4775-a1c1-84eeac70c380",
   "metadata": {
    "executionCancelledAt": null,
    "executionTime": 117,
    "lastExecutedAt": 1705756191171,
    "lastScheduledRunId": null,
    "lastSuccessfullyExecutedCode": "# Import GridSearchCV\nfrom sklearn.model_selection import GridSearchCV\nfrom sklearn.model_selection import KFold\n\n# Defining kfolds for cross-validation\nkf = KFold(n_splits=5, random_state=42, shuffle=True)\n\n# Set up the parameter grid\nparam_grid = {\"alpha\": np.linspace(0.00001, 1, 20)}\n\n# Instantiate lasso_cv\nlasso_cv = GridSearchCV(lasso, param_grid, cv=kf)\n\n# Fit to the training data\nlasso_cv.fit(X_train, y_train)\n\nprint(\"Tuned lasso paramaters: {}\".format(lasso_cv.best_params_))\nprint(\"Tuned lasso score: {}\".format(lasso_cv.best_score_))",
    "outputsMetadata": {
     "0": {
      "height": 57,
      "type": "stream"
     }
    }
   },
   "outputs": [
    {
     "name": "stdout",
     "output_type": "stream",
     "text": [
      "Tuned lasso paramaters: {'alpha': 0.15790315789473686}\n",
      "Tuned lasso score: 0.2680563190579576\n"
     ]
    }
   ],
   "source": [
    "# Import GridSearchCV\n",
    "from sklearn.model_selection import GridSearchCV\n",
    "from sklearn.model_selection import KFold\n",
    "\n",
    "# Defining kfolds for cross-validation\n",
    "kf = KFold(n_splits=5, random_state=42, shuffle=True)\n",
    "\n",
    "# Set up the parameter grid\n",
    "param_grid = {\"alpha\": np.linspace(0.00001, 1, 20)}\n",
    "\n",
    "# Instantiate lasso_cv\n",
    "lasso_cv = GridSearchCV(lasso, param_grid, cv=kf)\n",
    "\n",
    "# Fit to the training data\n",
    "lasso_cv.fit(X_train, y_train)\n",
    "\n",
    "print(\"Tuned lasso paramaters: {}\".format(lasso_cv.best_params_))\n",
    "print(\"Tuned lasso score: {}\".format(lasso_cv.best_score_))"
   ]
  },
  {
   "cell_type": "markdown",
   "id": "6c595cb1-bc20-4b7a-8664-4b6ccaf8ac0a",
   "metadata": {},
   "source": [
    "# RandomizedSearchCV"
   ]
  },
  {
   "cell_type": "code",
   "execution_count": 76,
   "id": "aee997a2-88d4-45d5-9340-11192cbac6f3",
   "metadata": {
    "executionCancelledAt": null,
    "executionTime": 46,
    "lastExecutedAt": 1705756191217,
    "lastScheduledRunId": null,
    "lastSuccessfullyExecutedCode": ""
   },
   "outputs": [],
   "source": []
  }
 ],
 "metadata": {
  "colab": {
   "name": "Welcome to DataCamp Workspaces.ipynb",
   "provenance": []
  },
  "editor": "DataCamp Workspace",
  "kernelspec": {
   "display_name": "Python 3 (ipykernel)",
   "language": "python",
   "name": "python3"
  },
  "language_info": {
   "codemirror_mode": {
    "name": "ipython",
    "version": 3
   },
   "file_extension": ".py",
   "mimetype": "text/x-python",
   "name": "python",
   "nbconvert_exporter": "python",
   "pygments_lexer": "ipython3",
   "version": "3.9.13"
  }
 },
 "nbformat": 4,
 "nbformat_minor": 5
}
